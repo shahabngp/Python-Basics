{
 "cells": [
  {
   "cell_type": "markdown",
   "metadata": {},
   "source": [
    "# Database Connection in Python"
   ]
  },
  {
   "cell_type": "markdown",
   "metadata": {},
   "source": [
    "**What is a Database??**\n"
   ]
  },
  {
   "cell_type": "raw",
   "metadata": {},
   "source": [
    "Database is a systematic collection of data. \n",
    "Databases support storage and  manipulation of data.\n",
    "Databases make data management easy."
   ]
  },
  {
   "cell_type": "markdown",
   "metadata": {},
   "source": [
    "**Databases supported in Python**"
   ]
  },
  {
   "cell_type": "raw",
   "metadata": {},
   "source": [
    "Python supports connectivity with below Database\n",
    "\n",
    "MySQL -- MySQLdb/pyMySQL\n",
    "PostgreSQL\n",
    "Microsoft SQL Server 2000 -- pymssql/pyodbc\n",
    "Informix\n",
    "Interbase\n",
    "Oracle--cx_Oracle\n",
    "Sybase\n",
    "mSQL"
   ]
  },
  {
   "cell_type": "markdown",
   "metadata": {},
   "source": [
    "**Benifits of Python Database Programming**"
   ]
  },
  {
   "cell_type": "raw",
   "metadata": {},
   "source": [
    "1.Database programming in Python is simple \n",
    "2.Python database and programs both are portable so both can give an advantage in case of portability\n",
    "3.Supports SQL cursors\n",
    "4.Supports Relational Database systems\n",
    "5.The API of Python for the database is compatible with other databases\n",
    "6.Platform independent\n"
   ]
  },
  {
   "cell_type": "markdown",
   "metadata": {},
   "source": [
    "**Steps to Connect to Database**"
   ]
  },
  {
   "cell_type": "raw",
   "metadata": {},
   "source": [
    "Download a separate DB API module for each database you need to access.The DB API provides a minimal standard for working with databases using Python structures and syntax wherever possible. \n",
    "\n",
    "Steps for connecting with Database in Python\n",
    "\n",
    "0.Install the required package\n",
    "1.Importing the required module.\n",
    "2.Create a connection object.\n",
    "3.Create a cursor object to read/write.\n",
    "4.Close the Cursor\n",
    "5.Close the connection.\n"
   ]
  },
  {
   "cell_type": "markdown",
   "metadata": {},
   "source": [
    "**What is MySQLdb?**\n"
   ]
  },
  {
   "cell_type": "markdown",
   "metadata": {},
   "source": [
    "MySQLdb is an interface for connecting to a MySQL database server from Python. It implements the Python Database API v2.0 and is built on top of the MySQL C API."
   ]
  },
  {
   "cell_type": "markdown",
   "metadata": {},
   "source": [
    "**How to implement MySQL database**"
   ]
  },
  {
   "cell_type": "raw",
   "metadata": {},
   "source": [
    "To use MySQL database using Python, you need first to install it on your machine.\n",
    "Then Type:\n",
    "\n",
    "import MySQLdb"
   ]
  },
  {
   "cell_type": "markdown",
   "metadata": {},
   "source": [
    "**Database Program using Python**"
   ]
  },
  {
   "cell_type": "raw",
   "metadata": {},
   "source": [
    "#importing the module\n",
    "import MySQLdb\n",
    "\n",
    "# opening a database connection\n",
    "db = MySQLdb.connect  (\"localhost\",\"testprog\",\"stud\",\"PYDB\")\n",
    "\n",
    "#define a cursor object\n",
    "cursor = db.cursor\n",
    "\n",
    "# query\n",
    "sql = \"CREATE TABLE STUDENT (NAME CHAR(30) NOT NULL, CLASS CHAR(5), AGE INT, GENDER CHAR(8), MARKS INT\"\n",
    "\n",
    "# execute query\n",
    "cursor.execute(sql)\n",
    "\n",
    "# close object\n",
    "cursor.close()\n",
    "\n",
    "#crootrootrrrrrlose connection\n",
    "db.close()"
   ]
  },
  {
   "cell_type": "markdown",
   "metadata": {},
   "source": [
    "**Database Operation**"
   ]
  },
  {
   "cell_type": "raw",
   "metadata": {},
   "source": [
    "There are various operations that programmers can perform within Python program. \n",
    "\n",
    "Environment Variables   Description\n",
    "\n",
    "INSERT                 It is an SQL statement used to create a record into a table.\n",
    "READ                   Fetches useful information from the database.\n",
    "UPDATE                 It is used update those available or already existing record(s).\n",
    "DELETE                 It is used to delete records from the database.\n",
    "ROLLBACK               It works like \"undo\", which reverts all the changes that you have made.\n"
   ]
  },
  {
   "cell_type": "markdown",
   "metadata": {},
   "source": [
    "**Database Operations**"
   ]
  },
  {
   "cell_type": "code",
   "execution_count": null,
   "metadata": {
    "collapsed": true
   },
   "outputs": [],
   "source": [
    "Execute() : To excute the Query on the database\n",
    "Commit() : To Commit the transaction\n",
    "Rollback() : To Rollback the transaction\n",
    "Close(): To close the connection\n",
    "\n",
    "Methods\n",
    "fetchone() : To fetch the top record\n",
    "fetchall() : To fetch all the records\n",
    "rowcount() : To get the count of affected records\n"
   ]
  }
 ],
 "metadata": {
  "kernelspec": {
   "display_name": "Python 3",
   "language": "python",
   "name": "python3"
  },
  "language_info": {
   "codemirror_mode": {
    "name": "ipython",
    "version": 3
   },
   "file_extension": ".py",
   "mimetype": "text/x-python",
   "name": "python",
   "nbconvert_exporter": "python",
   "pygments_lexer": "ipython3",
   "version": "3.6.1"
  }
 },
 "nbformat": 4,
 "nbformat_minor": 2
}
