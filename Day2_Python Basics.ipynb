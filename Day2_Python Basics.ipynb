{
 "cells": [
  {
   "cell_type": "markdown",
   "metadata": {},
   "source": [
    "# Python Syntax\n"
   ]
  },
  {
   "cell_type": "markdown",
   "metadata": {},
   "source": [
    "Python syntax can be executed by writing directly in the Command Line:"
   ]
  },
  {
   "cell_type": "code",
   "execution_count": 1,
   "metadata": {},
   "outputs": [
    {
     "name": "stdout",
     "output_type": "stream",
     "text": [
      "Hello, World!\n"
     ]
    }
   ],
   "source": [
    "# MY first Python Program\n",
    "\n",
    "print(\"Hello, World!\")\n"
   ]
  },
  {
   "cell_type": "code",
   "execution_count": 1,
   "metadata": {},
   "outputs": [
    {
     "data": {
      "text/plain": [
       "'C:\\\\Users\\\\shahab\\\\Desktop\\\\Python Class\\\\Training Nethra'"
      ]
     },
     "execution_count": 1,
     "metadata": {},
     "output_type": "execute_result"
    }
   ],
   "source": [
    "# Command to check you current working directory\n",
    "%pwd"
   ]
  },
  {
   "cell_type": "code",
   "execution_count": null,
   "metadata": {
    "collapsed": true
   },
   "outputs": [],
   "source": [
    "#Command to set the working directory\n",
    "#chdir"
   ]
  },
  {
   "cell_type": "code",
   "execution_count": 18,
   "metadata": {
    "collapsed": true
   },
   "outputs": [],
   "source": [
    "#Or by creating a python file on the server, using the .py file extension, and running it in the Command Line:\n",
    "\n",
    "#C:\\Users\\Your Name>python myfile.py"
   ]
  },
  {
   "cell_type": "markdown",
   "metadata": {},
   "source": [
    "# Python Keywords"
   ]
  },
  {
   "cell_type": "markdown",
   "metadata": {},
   "source": [
    "#Keywords are the reserved words in Python.\n",
    "\n",
    "#We cannot use a keyword as variable name, function name or any other identifier. They are used to define the syntax and structure of the Python language.\n",
    "\n",
    "#In Python, keywords are case sensitive.\n",
    "\n",
    "#There are around 33 keywords in Python 3.3"
   ]
  },
  {
   "cell_type": "raw",
   "metadata": {
    "collapsed": true
   },
   "source": [
    "#False\tclass\t    finally\t  is\t          return\n",
    "#None\tcontinue\tfor\t      lambda\t      try\n",
    "#True\tdef\t        from\t  nonlocal\t      while\n",
    "#and\tdel\t        global\t  not\t          with\n",
    "#as\t    elif\t    if\t      or\t          yield\n",
    "#assert\telse\t    import\t  pass\t  \n",
    "#break\texcept\t    in\t      raise\n",
    "\n",
    "#All the keywords except True, False and None are in lowercase and they must be written as it is\n"
   ]
  },
  {
   "cell_type": "markdown",
   "metadata": {},
   "source": [
    "# Python Numbers"
   ]
  },
  {
   "cell_type": "markdown",
   "metadata": {},
   "source": [
    "There are three numeric types in Python:\n",
    "\n",
    "#int\n",
    "#float\n",
    "#complex"
   ]
  },
  {
   "cell_type": "code",
   "execution_count": 21,
   "metadata": {},
   "outputs": [
    {
     "name": "stdout",
     "output_type": "stream",
     "text": [
      "<class 'int'>\n",
      "<class 'float'>\n",
      "<class 'complex'>\n"
     ]
    }
   ],
   "source": [
    "x = 1    # int\n",
    "y = 2.8  # float\n",
    "z = 1j   # complex\n",
    "\n",
    "\n",
    "print(type(x))\n",
    "print(type(y))\n",
    "print(type(z))"
   ]
  },
  {
   "cell_type": "markdown",
   "metadata": {},
   "source": [
    "# Int"
   ]
  },
  {
   "cell_type": "markdown",
   "metadata": {},
   "source": [
    "Int, or integer, is a whole number, positive or negative, without decimals, of unlimited length."
   ]
  },
  {
   "cell_type": "code",
   "execution_count": 28,
   "metadata": {},
   "outputs": [
    {
     "name": "stdout",
     "output_type": "stream",
     "text": [
      "<class 'int'>\n",
      "<class 'int'>\n"
     ]
    }
   ],
   "source": [
    "x = 1     #positive \n",
    "y = -89   #negative\n",
    "\n",
    "print(type(x))\n",
    "print(type(y))\n"
   ]
  },
  {
   "cell_type": "markdown",
   "metadata": {},
   "source": [
    "# Float"
   ]
  },
  {
   "cell_type": "markdown",
   "metadata": {},
   "source": [
    "Float, or \"floating point number\" is a number, positive or negative, containing one or more decimals"
   ]
  },
  {
   "cell_type": "code",
   "execution_count": 29,
   "metadata": {},
   "outputs": [
    {
     "name": "stdout",
     "output_type": "stream",
     "text": [
      "<class 'float'>\n",
      "<class 'float'>\n"
     ]
    }
   ],
   "source": [
    "x = 2.10\n",
    "y = -3.0\n",
    "\n",
    "\n",
    "print(type(x))\n",
    "print(type(y))\n"
   ]
  },
  {
   "cell_type": "code",
   "execution_count": 25,
   "metadata": {},
   "outputs": [
    {
     "name": "stdout",
     "output_type": "stream",
     "text": [
      "<class 'float'>\n",
      "<class 'float'>\n",
      "<class 'float'>\n"
     ]
    }
   ],
   "source": [
    "#Float can also be scientific numbers with an \"e\" to indicate the power of 10.\n",
    "\n",
    "x = 35e3\n",
    "y = 12E4\n",
    "z = -87.7e100\n",
    "\n",
    "print(type(x))\n",
    "print(type(y))\n",
    "print(type(z))"
   ]
  },
  {
   "cell_type": "markdown",
   "metadata": {},
   "source": [
    "# Complex"
   ]
  },
  {
   "cell_type": "markdown",
   "metadata": {},
   "source": [
    "Complex numbers are written with a \"j\" as the imaginary part:"
   ]
  },
  {
   "cell_type": "code",
   "execution_count": 30,
   "metadata": {},
   "outputs": [
    {
     "name": "stdout",
     "output_type": "stream",
     "text": [
      "<class 'complex'>\n",
      "<class 'complex'>\n"
     ]
    }
   ],
   "source": [
    "x = 4+5j\n",
    "y =-8j\n",
    "\n",
    "print(type(x))\n",
    "print(type(y))\n"
   ]
  },
  {
   "cell_type": "markdown",
   "metadata": {},
   "source": [
    "# Comments"
   ]
  },
  {
   "cell_type": "markdown",
   "metadata": {},
   "source": [
    "we use (#)hash symbol to start writing comment.\n",
    "Comments are for programmer's better understanding of program,\n",
    "Python interpreter ignores comments."
   ]
  },
  {
   "cell_type": "code",
   "execution_count": 5,
   "metadata": {},
   "outputs": [
    {
     "name": "stdout",
     "output_type": "stream",
     "text": [
      "Hello\n"
     ]
    }
   ],
   "source": [
    "# This is a comment\n",
    "# print Hello World\n",
    "print (\"Hello\")"
   ]
  },
  {
   "cell_type": "markdown",
   "metadata": {},
   "source": [
    "# Multi-line Comments"
   ]
  },
  {
   "cell_type": "markdown",
   "metadata": {},
   "source": [
    "If we are writing multiple line comments \n",
    "one way is to give hash (#) symbol in the beginning of each line\n",
    "\n"
   ]
  },
  {
   "cell_type": "code",
   "execution_count": 6,
   "metadata": {
    "collapsed": true
   },
   "outputs": [],
   "source": [
    "# Multiple line comment\n",
    "# It is a long comment"
   ]
  },
  {
   "cell_type": "markdown",
   "metadata": {},
   "source": [
    "Another way is to use  triple quotes, either ' ' ' or \" \" \""
   ]
  },
  {
   "cell_type": "code",
   "execution_count": 7,
   "metadata": {},
   "outputs": [
    {
     "data": {
      "text/plain": [
       "' An example of \\nmultiple line comment\\nusing triple quotes'"
      ]
     },
     "execution_count": 7,
     "metadata": {},
     "output_type": "execute_result"
    }
   ],
   "source": [
    "\"\"\" An example of \n",
    "multiple line comment\n",
    "using triple quotes\"\"\""
   ]
  },
  {
   "cell_type": "markdown",
   "metadata": {},
   "source": [
    "# Operators in Python"
   ]
  },
  {
   "cell_type": "markdown",
   "metadata": {},
   "source": [
    "Operators are special symbols in Python that carry out arithmetic or logical computation. The value that the operator operates on is called the operand."
   ]
  },
  {
   "cell_type": "code",
   "execution_count": 9,
   "metadata": {},
   "outputs": [
    {
     "data": {
      "text/plain": [
       "5"
      ]
     },
     "execution_count": 9,
     "metadata": {},
     "output_type": "execute_result"
    }
   ],
   "source": [
    "2+3\n",
    "# + is the operator\n",
    "#2 & 3 are the operands"
   ]
  },
  {
   "cell_type": "markdown",
   "metadata": {},
   "source": [
    "# Arithmetic Operators"
   ]
  },
  {
   "cell_type": "markdown",
   "metadata": {},
   "source": [
    "Arithmetic operators are used to perform mathematical operations like addition, subtraction, multiplication etc."
   ]
  },
  {
   "cell_type": "code",
   "execution_count": 42,
   "metadata": {},
   "outputs": [
    {
     "name": "stdout",
     "output_type": "stream",
     "text": [
      "7\n"
     ]
    }
   ],
   "source": [
    "# + Add two operands or unary plus\n",
    "\n",
    "a=3\n",
    "b=4\n",
    "c=a+b\n",
    "print(c)"
   ]
  },
  {
   "cell_type": "code",
   "execution_count": 43,
   "metadata": {},
   "outputs": [
    {
     "name": "stdout",
     "output_type": "stream",
     "text": [
      "x - y = 2\n"
     ]
    }
   ],
   "source": [
    "# - Subtract right operand from the left or unary minus\n",
    "\n",
    "x=5\n",
    "y=3\n",
    "print('x - y =',x-y)\n"
   ]
  },
  {
   "cell_type": "code",
   "execution_count": 12,
   "metadata": {},
   "outputs": [
    {
     "name": "stdout",
     "output_type": "stream",
     "text": [
      "x * y = 30\n"
     ]
    }
   ],
   "source": [
    "# * Multiply two operands \n",
    "\n",
    "x=5\n",
    "y=6\n",
    "print('x * y =',x*y)"
   ]
  },
  {
   "cell_type": "code",
   "execution_count": 13,
   "metadata": {},
   "outputs": [
    {
     "name": "stdout",
     "output_type": "stream",
     "text": [
      "x / y = 3.75\n"
     ]
    }
   ],
   "source": [
    "# / Divide left operand by the right one (always results into float)\n",
    "x=15\n",
    "y=4\n",
    "print('x / y =',x/y)"
   ]
  },
  {
   "cell_type": "code",
   "execution_count": 44,
   "metadata": {},
   "outputs": [
    {
     "name": "stdout",
     "output_type": "stream",
     "text": [
      "x % y = 1\n"
     ]
    }
   ],
   "source": [
    "# % Modulus - remainder of the division of left operand by the right\n",
    "x=5\n",
    "y=2\n",
    "print('x % y =',x%y)\n"
   ]
  },
  {
   "cell_type": "code",
   "execution_count": 1,
   "metadata": {},
   "outputs": [
    {
     "name": "stdout",
     "output_type": "stream",
     "text": [
      "x // y = 4\n"
     ]
    }
   ],
   "source": [
    "# // Floor division - division that results into whole number adjusted to the left in the number line\n",
    "x=17\n",
    "y=4\n",
    "print('x // y =',x//y)"
   ]
  },
  {
   "cell_type": "code",
   "execution_count": 3,
   "metadata": {},
   "outputs": [
    {
     "name": "stdout",
     "output_type": "stream",
     "text": [
      "x ** y = 27\n"
     ]
    }
   ],
   "source": [
    "# ** Exponent - left operand raised to the power of right\n",
    "x=3\n",
    "y=3\n",
    "print('x ** y =',x**y)"
   ]
  },
  {
   "cell_type": "markdown",
   "metadata": {},
   "source": [
    "# Comparison operators"
   ]
  },
  {
   "cell_type": "markdown",
   "metadata": {},
   "source": [
    "Comparison operators are used to compare values. It either returns True or False according to the condition."
   ]
  },
  {
   "cell_type": "code",
   "execution_count": 8,
   "metadata": {
    "collapsed": true
   },
   "outputs": [],
   "source": [
    "#> Greater than - True if left operand is greater than the right                            x > y\n",
    "#<     Less than - True if left operand is less than the right                               x < y\n",
    "#==    Equal to - True if both operands are equal                                            x == y\n",
    "#!=    Not equal to - True if operands are not equal                                         x != y\n",
    "#>=    Greater than or equal to - True if left operand is greater than or equal to the right x >= y\n",
    "#<=    Less than or equal to - True if left operand is less than or equal to the right       x <= y "
   ]
  },
  {
   "cell_type": "code",
   "execution_count": 18,
   "metadata": {},
   "outputs": [
    {
     "name": "stdout",
     "output_type": "stream",
     "text": [
      "x > y  is False\n",
      "x < y  is True\n",
      "x == y is False\n",
      "x != y is True\n",
      "x >= y is False\n",
      "x <= y is True\n"
     ]
    }
   ],
   "source": [
    "x = 15\n",
    "y = 20\n",
    "\n",
    "# Output: x > y is False\n",
    "print('x > y  is',x>y)\n",
    "\n",
    "# Output: x < y is True\n",
    "print('x < y  is',x<y)\n",
    "\n",
    "# Output: x == y is False\n",
    "print('x == y is',x==y)\n",
    "\n",
    "# Output: x != y is True\n",
    "print('x != y is',x!=y)\n",
    "\n",
    "# Output: x >= y is False\n",
    "print('x >= y is',x>=y)\n",
    "\n",
    "# Output: x <= y is True\n",
    "print('x <= y is',x<=y)"
   ]
  },
  {
   "cell_type": "markdown",
   "metadata": {},
   "source": [
    "# Logical operators"
   ]
  },
  {
   "cell_type": "markdown",
   "metadata": {},
   "source": [
    "Logical operators are the and, or, not operators."
   ]
  },
  {
   "cell_type": "code",
   "execution_count": 9,
   "metadata": {
    "collapsed": true
   },
   "outputs": [],
   "source": [
    "#and --> True if both the operands are true ;    e.g=x and y\n",
    "#or  --> True if either of the operands is true; e.g= x or y\n",
    "#not --> True if operand is false (complements the operand);e.g= not x"
   ]
  },
  {
   "cell_type": "code",
   "execution_count": 19,
   "metadata": {},
   "outputs": [
    {
     "name": "stdout",
     "output_type": "stream",
     "text": [
      "x==2 and y==4 is False\n",
      "x==2 or y==4 is True\n",
      "x!=2 and y!=4 is False\n",
      "x==3 not x is True\n"
     ]
    }
   ],
   "source": [
    "x=0\n",
    "y=4\n",
    "\n",
    "#output: x==2 and y==4\n",
    "print('x==2 and y==4 is',x==2 and y==4)\n",
    "\n",
    "#output: x or y is true\n",
    "print('x==2 or y==4 is',x==2 or y==4)\n",
    "\n",
    "print('x!=2 and y!=4 is',x!=2 and y!=4) \n",
    "print('x==3 not x is',not x )\n"
   ]
  },
  {
   "cell_type": "markdown",
   "metadata": {},
   "source": [
    "# Bitwise operators"
   ]
  },
  {
   "cell_type": "markdown",
   "metadata": {},
   "source": [
    "Bitwise operators act on operands as if they were string of binary digits. It operates bit by bit, hence the name."
   ]
  },
  {
   "cell_type": "code",
   "execution_count": 10,
   "metadata": {
    "collapsed": true
   },
   "outputs": [],
   "source": [
    "#&\tBitwise AND\tx& y \n",
    "#|\tBitwise OR\tx | y \n",
    "#~\tBitwise NOT\t~x \n",
    "#^\tBitwise XOR\tx ^ y \n",
    "#>>\tBitwise right shift\tx>> 2 \n",
    "#<<\tBitwise left shift\tx<< 2 "
   ]
  },
  {
   "cell_type": "code",
   "execution_count": 2,
   "metadata": {},
   "outputs": [
    {
     "name": "stdout",
     "output_type": "stream",
     "text": [
      "0\n",
      "14\n",
      "-11\n",
      "14\n",
      "2\n",
      "40\n"
     ]
    }
   ],
   "source": [
    "#  Let x = 10 (0000 1010 in binary) and y = 4 (0000 0100 in binary)\n",
    "x=10\n",
    "y=4\n",
    "\n",
    "x & y \n",
    "print(x & y)\n",
    "x | y \n",
    "print(x|y)\n",
    "~x \n",
    "print(~x)\n",
    "x ^ y\n",
    "print(x ^ y)\n",
    "x>> 2 \n",
    "print(x>> 2)\n",
    "x<< 2 \n",
    "print (x<< 2)"
   ]
  },
  {
   "cell_type": "markdown",
   "metadata": {},
   "source": [
    "# Assignment operators"
   ]
  },
  {
   "cell_type": "markdown",
   "metadata": {},
   "source": [
    "Assignment operators are used in Python to assign values to variables."
   ]
  },
  {
   "cell_type": "code",
   "execution_count": 31,
   "metadata": {
    "collapsed": true
   },
   "outputs": [],
   "source": [
    "# =      x = 5        Equivalent to x = 5\n",
    "# +=     x += 3       Equivalent to x = x + 3\n",
    "# -=     x -= 3       Equivalent to x = x- 3\n",
    "# *=     x *= 3       Equivalent to x = x * 3\n",
    "# /=     x /= 3       Equivalent to x = x / 3\n",
    "# %=     x %= 3       Equivalent to x = x % 3\n",
    "# //=    x //= 3      Equivalent to x = x // 3\n",
    "# **=    x **= 3      Equivalent to x = x ** 3\n",
    "# &=     x &= 3       Equivalent to x = x & 3\n",
    "# |=     x |= 3       Equivalent to x = x | 3\n",
    "# ^=     x ^= 3       Equivalent to x = x ^ 3   \n",
    "# >>=    x >>= 3      Equivalent to x = x >> 3\n",
    "# <<=    x <<= 3      Equivalent to x = x << 3"
   ]
  },
  {
   "cell_type": "markdown",
   "metadata": {},
   "source": [
    "# Special operators"
   ]
  },
  {
   "cell_type": "markdown",
   "metadata": {},
   "source": [
    "Python language offers some special type of operators like the identity operator or the membership operator."
   ]
  },
  {
   "cell_type": "markdown",
   "metadata": {},
   "source": [
    "# Identity operators"
   ]
  },
  {
   "cell_type": "markdown",
   "metadata": {},
   "source": [
    "is and is not are the identity operators in Python. \n",
    "#They are used to check if two values (or variables) are located on the same part of the memory. \n",
    "#Two variables that are equal does not imply that they are identical."
   ]
  },
  {
   "cell_type": "code",
   "execution_count": 6,
   "metadata": {
    "collapsed": true
   },
   "outputs": [],
   "source": [
    "#is       True if the operands are identical (refer to the same object)           ;  e.g. =x is true\n",
    "#is not   True if the operands are not identical (do not refer to the same object) ; e.g. =x is not True"
   ]
  },
  {
   "cell_type": "code",
   "execution_count": 5,
   "metadata": {},
   "outputs": [
    {
     "name": "stdout",
     "output_type": "stream",
     "text": [
      "False\n",
      "True\n",
      "False\n"
     ]
    }
   ],
   "source": [
    "x1 = 5\n",
    "y1 = 5\n",
    "x2 = 'shahab'\n",
    "y2 = 'shahab'\n",
    "x3 = [1,2,3]\n",
    "y3 = [1,2,3]\n",
    "\n",
    "# Output: False\n",
    "print(x1 is not y1)\n",
    "\n",
    "# Output: True\n",
    "print(x2 is y2)\n",
    "\n",
    "# Output: False\n",
    "print(x3 is y3)"
   ]
  },
  {
   "cell_type": "markdown",
   "metadata": {},
   "source": [
    "# Membership operators"
   ]
  },
  {
   "cell_type": "markdown",
   "metadata": {},
   "source": [
    "#in and not in are the membership operators in Python.\n",
    "#They are used to test whether a value or variable is found in a sequence (string, list, tuple, set and dictionary)."
   ]
  },
  {
   "cell_type": "code",
   "execution_count": 12,
   "metadata": {
    "collapsed": true
   },
   "outputs": [],
   "source": [
    "#in      True if value/variable is found in the sequence ;    e.g=  5 in x\n",
    "#not in  True if value/variable is not found in the sequence; e.g=  5 not in x"
   ]
  },
  {
   "cell_type": "code",
   "execution_count": 16,
   "metadata": {},
   "outputs": [
    {
     "name": "stdout",
     "output_type": "stream",
     "text": [
      "True\n",
      "True\n",
      "True\n",
      "False\n"
     ]
    }
   ],
   "source": [
    "x = 'Python'\n",
    "y = {1:'a',2:'b'}\n",
    "\n",
    "\n",
    "print('P' in x)\n",
    "\n",
    "print('python' not in x)#Python is case sensetive\n",
    "\n",
    "\n",
    "print(1 in y)\n",
    "\n",
    "\n",
    "print('a' in y)"
   ]
  },
  {
   "cell_type": "markdown",
   "metadata": {},
   "source": [
    "## **Command Line Input in Python**"
   ]
  },
  {
   "cell_type": "code",
   "execution_count": 33,
   "metadata": {},
   "outputs": [
    {
     "name": "stdout",
     "output_type": "stream",
     "text": [
      "enter any number5\n",
      "Number is  5\n"
     ]
    }
   ],
   "source": [
    "#Command Line Input : You can get the input from user using the 'input' method in python\n",
    "\n",
    "a=input('enter any number')\n",
    "print('Number is ',a)"
   ]
  },
  {
   "cell_type": "markdown",
   "metadata": {},
   "source": [
    "## Type Casting in Python"
   ]
  },
  {
   "cell_type": "code",
   "execution_count": 34,
   "metadata": {},
   "outputs": [
    {
     "name": "stdout",
     "output_type": "stream",
     "text": [
      "Num1: <class 'int'>\n",
      "Sum: 24.5\n",
      "<class 'float'>\n"
     ]
    }
   ],
   "source": [
    "#Type Casting\n",
    "#Python always converts smaller data type to larger data type to avoid the loss of data.\n",
    "\n",
    "num1=12\n",
    "num2=12.5\n",
    "\n",
    "print('Num1:', type(num1))\n",
    "print('Sum:',num1+num2)\n",
    "print(type(num1+num2))"
   ]
  },
  {
   "cell_type": "code",
   "execution_count": 35,
   "metadata": {},
   "outputs": [
    {
     "name": "stdout",
     "output_type": "stream",
     "text": [
      "Type: <class 'int'>\n",
      "Type: <class 'str'>\n",
      "New Sum: 128\n"
     ]
    }
   ],
   "source": [
    "#Explicit conversion\n",
    "\n",
    "num1=5\n",
    "num2='123'\n",
    "print('Type:', type(num1))\n",
    "print('Type:', type(num2))\n",
    "\n",
    "#print('Sum:', num1+num2) This will throw error because we are trying to add two operands of different dataypes.\n",
    "num2=int(num2)\n",
    "print('New Sum:',num1+num2)"
   ]
  }
 ],
 "metadata": {
  "kernelspec": {
   "display_name": "Python 3",
   "language": "python",
   "name": "python3"
  },
  "language_info": {
   "codemirror_mode": {
    "name": "ipython",
    "version": 3
   },
   "file_extension": ".py",
   "mimetype": "text/x-python",
   "name": "python",
   "nbconvert_exporter": "python",
   "pygments_lexer": "ipython3",
   "version": "3.6.1"
  }
 },
 "nbformat": 4,
 "nbformat_minor": 2
}
