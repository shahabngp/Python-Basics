{
 "cells": [
  {
   "cell_type": "markdown",
   "metadata": {},
   "source": [
    "# Exception Handling\n",
    "\n"
   ]
  },
  {
   "cell_type": "markdown",
   "metadata": {},
   "source": [
    "#### what is Exception?\n",
    "\n",
    "#An exception is an event which occurs during the execution of a program and disrupts the normal flow of the program’s instructions.\n",
    "#Exception handling is very critical for creating robust and stable applications.\n",
    "\n",
    "#e.g : \n",
    "\n",
    "**NameError**\n",
    "This exception is raised when the program cannot find a local or global name. The name that could not be found is included in the error message.\n",
    "\n",
    "**TypeError**\n",
    "This exception is raised when a function is passed an object of the inappropriate type as its argument. More details about the wrong type are provided in the error message.\n",
    "\n",
    "**ImportError**\n",
    "If python cannot find the module\n",
    "\n",
    "**ValueError**\n",
    "Raised when a built-in operation or function receives an argument that has the\n",
    "right type but an inappropriate value\n",
    "\n",
    "**ZeroDivisionError**\n",
    "This exception is raised when you provide the second argument for a division or modulo operation as zero.\n",
    "\n",
    "**FileNotFoundError**\n",
    "This exception is raised when the file or directory that the program requested does not exist."
   ]
  },
  {
   "cell_type": "markdown",
   "metadata": {},
   "source": [
    "#### Exception Handling in Python"
   ]
  },
  {
   "cell_type": "markdown",
   "metadata": {},
   "source": [
    "#**Try Block:** Lets you to check block of code for errors\n",
    "\n",
    "#**Except Block:** Lets you handle the error\n",
    "\n",
    "#**Finally:** This block of code is always executed even weather exception is raised or not. ( Used to close the file)"
   ]
  },
  {
   "cell_type": "code",
   "execution_count": 4,
   "metadata": {},
   "outputs": [
    {
     "ename": "NameError",
     "evalue": "name 'x' is not defined",
     "output_type": "error",
     "traceback": [
      "\u001b[1;31m---------------------------------------------------------------------------\u001b[0m",
      "\u001b[1;31mNameError\u001b[0m                                 Traceback (most recent call last)",
      "\u001b[1;32m<ipython-input-4-81745ac23551>\u001b[0m in \u001b[0;36m<module>\u001b[1;34m()\u001b[0m\n\u001b[1;32m----> 1\u001b[1;33m \u001b[0mprint\u001b[0m\u001b[1;33m(\u001b[0m\u001b[0mx\u001b[0m\u001b[1;33m)\u001b[0m\u001b[1;33m\u001b[0m\u001b[0m\n\u001b[0m",
      "\u001b[1;31mNameError\u001b[0m: name 'x' is not defined"
     ]
    }
   ],
   "source": [
    "# Name Error : Occurs when the identifier is not found in local or gloabl namespace\n",
    "print(x)"
   ]
  },
  {
   "cell_type": "code",
   "execution_count": 25,
   "metadata": {},
   "outputs": [
    {
     "name": "stdout",
     "output_type": "stream",
     "text": [
      "Varaible is not defined\n"
     ]
    }
   ],
   "source": [
    "#Handle Name Error exception\n",
    "try:\n",
    "    print(x)\n",
    "except :\n",
    "    print(\"Varaible is not defined\")\n"
   ]
  },
  {
   "cell_type": "code",
   "execution_count": 9,
   "metadata": {},
   "outputs": [
    {
     "name": "stdout",
     "output_type": "stream",
     "text": [
      "Check the Denominator\n"
     ]
    }
   ],
   "source": [
    "# Zero Division Error\n",
    "a=1\n",
    "b=0\n",
    "\n",
    "try:\n",
    "    print(a/b)\n",
    "except:\n",
    "    print(\"Check the Denominator\")\n",
    "    \n"
   ]
  },
  {
   "cell_type": "code",
   "execution_count": 1,
   "metadata": {},
   "outputs": [
    {
     "name": "stdout",
     "output_type": "stream",
     "text": [
      "Enter the Numberh\n",
      "Exception Occured - >Enter the Integer\n"
     ]
    }
   ],
   "source": [
    "#Value Error: \n",
    "try:\n",
    "    a=int(input(\"Enter the Number\"))\n",
    "    print(a)\n",
    "\n",
    "except:\n",
    "    print(\"Exception Occured - >Enter the Integer\")"
   ]
  },
  {
   "cell_type": "code",
   "execution_count": 8,
   "metadata": {},
   "outputs": [
    {
     "name": "stdout",
     "output_type": "stream",
     "text": [
      "operands not compatible\n"
     ]
    }
   ],
   "source": [
    "#Type Error : Occurs when the operation is performed between the operands of two incompatible datatypes\n",
    "a=1\n",
    "b='string'\n",
    "\n",
    "try:\n",
    "    print(a+b)\n",
    "except TypeError:\n",
    "    print(\"operands not compatible\")"
   ]
  },
  {
   "cell_type": "code",
   "execution_count": 12,
   "metadata": {},
   "outputs": [
    {
     "name": "stdout",
     "output_type": "stream",
     "text": [
      "File not found\n"
     ]
    }
   ],
   "source": [
    "# File not found exception\n",
    "try:\n",
    "    fh = open(\"testfile\", \"r\")\n",
    "except:\n",
    "    print(\"File not found\")"
   ]
  },
  {
   "cell_type": "code",
   "execution_count": 1,
   "metadata": {},
   "outputs": [
    {
     "name": "stdout",
     "output_type": "stream",
     "text": [
      "Write operation is performed successfully on the file\n"
     ]
    }
   ],
   "source": [
    "#File IOError\n",
    "try:\n",
    "      fh = open(\"test1\", \"w\")\n",
    "      fh.write(\"This is my test file for exception handling!!\")\n",
    "except:\n",
    "   print (\"Error: can\\'t find the file or read data\")\n",
    "else:\n",
    "   print (\"Write operation is performed successfully on the file\")\n",
    "   fh.close()"
   ]
  },
  {
   "cell_type": "code",
   "execution_count": 46,
   "metadata": {},
   "outputs": [
    {
     "name": "stdout",
     "output_type": "stream",
     "text": [
      "Error: can't find the file or read data\n"
     ]
    }
   ],
   "source": [
    "#File IOError\n",
    "try:\n",
    "      fh = open(\"test1\", \"r\")\n",
    "      fh.write(\"This is my test file for exception handling!!\")\n",
    "except:\n",
    "   print (\"Error: can\\'t find the file or read data\")\n",
    "else:\n",
    "   print (\"Write operation is performed successfully on the file\")\n",
    "   fh.close()"
   ]
  },
  {
   "cell_type": "markdown",
   "metadata": {},
   "source": [
    "#### Finally keyword"
   ]
  },
  {
   "cell_type": "code",
   "execution_count": 28,
   "metadata": {
    "collapsed": true
   },
   "outputs": [],
   "source": [
    "#Code written inside finally block is executed no matter weather the exception is raised or not.\n",
    "# This block is optional\n",
    "#It is normally used for cleanup actions.\n"
   ]
  },
  {
   "cell_type": "code",
   "execution_count": null,
   "metadata": {
    "collapsed": true
   },
   "outputs": [],
   "source": []
  },
  {
   "cell_type": "markdown",
   "metadata": {},
   "source": [
    "#### Handling Multiple Exceptions With Except"
   ]
  },
  {
   "cell_type": "raw",
   "metadata": {},
   "source": [
    "try:\n",
    "   Code to be executed\n",
    "   ......................\n",
    "except(Exception1[, Exception2[,...ExceptionN]]]):\n",
    "   If there is any exception from the given exception list,\n",
    "   then execute this block."
   ]
  },
  {
   "cell_type": "code",
   "execution_count": 2,
   "metadata": {},
   "outputs": [
    {
     "name": "stdout",
     "output_type": "stream",
     "text": [
      "Enter the first Number1\n",
      "Enter the second Number0\n",
      "Exception found\n",
      "Game over\n"
     ]
    }
   ],
   "source": [
    "#e.g.\n",
    "\n",
    "try:\n",
    "    a=int(input(\"Enter the first Number\"))\n",
    "    b=int(input(\"Enter the second Number\"))\n",
    "    print(a/b)\n",
    "except (ValueError,ZeroDivisionError):\n",
    "    print(\"Exception found\")\n",
    "finally:\n",
    "    print(\"Game over\")\n",
    "    "
   ]
  },
  {
   "cell_type": "code",
   "execution_count": null,
   "metadata": {
    "collapsed": true
   },
   "outputs": [],
   "source": []
  },
  {
   "cell_type": "markdown",
   "metadata": {},
   "source": [
    "**User Defined Exceptions**"
   ]
  },
  {
   "cell_type": "code",
   "execution_count": 3,
   "metadata": {},
   "outputs": [
    {
     "name": "stdout",
     "output_type": "stream",
     "text": [
      "Base class foa all exceptions\n",
      "Value is too large\n",
      "Value is to Small\n"
     ]
    }
   ],
   "source": [
    "# In python you can inherit the main exception class and create your own exceptions on top of it . \n",
    "#'Raise' keyword is used to raise a particular exception.\n",
    "\n",
    "class UsrException(Exception):\n",
    "    print(\"Base class foa all exceptions\")\n",
    "class valuetolarge(UsrException):\n",
    "    print(\"Value is too large\")\n",
    "class valuetosmall(UsrException):\n",
    "    print(\"Value is to Small\")\n",
    "    "
   ]
  },
  {
   "cell_type": "code",
   "execution_count": 2,
   "metadata": {},
   "outputs": [
    {
     "name": "stdout",
     "output_type": "stream",
     "text": [
      "Enter the Number3\n"
     ]
    },
    {
     "ename": "NameError",
     "evalue": "name 'valuetosmall' is not defined",
     "output_type": "error",
     "traceback": [
      "\u001b[1;31m---------------------------------------------------------------------------\u001b[0m",
      "\u001b[1;31mNameError\u001b[0m                                 Traceback (most recent call last)",
      "\u001b[1;32m<ipython-input-2-0140d7de8b20>\u001b[0m in \u001b[0;36m<module>\u001b[1;34m()\u001b[0m\n\u001b[0;32m      5\u001b[0m         \u001b[1;32mif\u001b[0m \u001b[0ma\u001b[0m\u001b[1;33m<\u001b[0m\u001b[1;36m5\u001b[0m\u001b[1;33m:\u001b[0m\u001b[1;33m\u001b[0m\u001b[0m\n\u001b[1;32m----> 6\u001b[1;33m             \u001b[1;32mraise\u001b[0m \u001b[0mvaluetosmall\u001b[0m\u001b[1;33m\u001b[0m\u001b[0m\n\u001b[0m\u001b[0;32m      7\u001b[0m         \u001b[1;32melif\u001b[0m \u001b[0ma\u001b[0m\u001b[1;33m>\u001b[0m\u001b[1;36m5\u001b[0m\u001b[1;33m:\u001b[0m\u001b[1;33m\u001b[0m\u001b[0m\n",
      "\u001b[1;31mNameError\u001b[0m: name 'valuetosmall' is not defined",
      "\nDuring handling of the above exception, another exception occurred:\n",
      "\u001b[1;31mNameError\u001b[0m                                 Traceback (most recent call last)",
      "\u001b[1;32m<ipython-input-2-0140d7de8b20>\u001b[0m in \u001b[0;36m<module>\u001b[1;34m()\u001b[0m\n\u001b[0;32m      8\u001b[0m             \u001b[1;32mraise\u001b[0m \u001b[0mvaluetolarge\u001b[0m\u001b[1;33m\u001b[0m\u001b[0m\n\u001b[0;32m      9\u001b[0m \u001b[1;33m\u001b[0m\u001b[0m\n\u001b[1;32m---> 10\u001b[1;33m     \u001b[1;32mexcept\u001b[0m \u001b[0mvaluetosmall\u001b[0m\u001b[1;33m:\u001b[0m\u001b[1;33m\u001b[0m\u001b[0m\n\u001b[0m\u001b[0;32m     11\u001b[0m             \u001b[0mprint\u001b[0m\u001b[1;33m(\u001b[0m\u001b[1;34m\"Value too small1\"\u001b[0m\u001b[1;33m)\u001b[0m\u001b[1;33m\u001b[0m\u001b[0m\n\u001b[0;32m     12\u001b[0m     \u001b[1;32mexcept\u001b[0m \u001b[0mvaluetolarge\u001b[0m\u001b[1;33m:\u001b[0m\u001b[1;33m\u001b[0m\u001b[0m\n",
      "\u001b[1;31mNameError\u001b[0m: name 'valuetosmall' is not defined"
     ]
    }
   ],
   "source": [
    "i=5\n",
    "while True:\n",
    "    try:\n",
    "        a=int(input(\"Enter the Number\"))\n",
    "        if a<5:\n",
    "            raise valuetosmall\n",
    "        elif a>5:\n",
    "            raise valuetolarge\n",
    "\n",
    "    except valuetosmall:\n",
    "            print(\"Value too small\")\n",
    "    except valuetolarge:\n",
    "            print(\"Large Value\")\n",
    "print(\"Correct Guess\")\n",
    "  "
   ]
  },
  {
   "cell_type": "code",
   "execution_count": null,
   "metadata": {
    "collapsed": true
   },
   "outputs": [],
   "source": [
    "#Raise Error  example\n",
    "try:\n",
    "    a=int(input(\"Enter the number\"))\n",
    "    if (a<=5):\n",
    "        print(a)\n",
    "        raise TypeError\n",
    "except TypeError:\n",
    "    print(\"Value Error is raised\")\n",
    "    "
   ]
  },
  {
   "cell_type": "code",
   "execution_count": 3,
   "metadata": {},
   "outputs": [
    {
     "name": "stdout",
     "output_type": "stream",
     "text": [
      " This exception is for small error\n",
      "This exception is for large error\n"
     ]
    }
   ],
   "source": [
    "class error(Exception):\n",
    "    pass\n",
    "class smallerror(error):\n",
    "    print(\" This exception is for small error\")\n",
    "class bigerror(error):\n",
    "    print(\"This exception is for large error\")"
   ]
  },
  {
   "cell_type": "code",
   "execution_count": 6,
   "metadata": {},
   "outputs": [
    {
     "name": "stdout",
     "output_type": "stream",
     "text": [
      "Enter the number2\n"
     ]
    },
    {
     "ename": "TypeError",
     "evalue": "",
     "output_type": "error",
     "traceback": [
      "\u001b[1;31m---------------------------------------------------------------------------\u001b[0m",
      "\u001b[1;31mTypeError\u001b[0m                                 Traceback (most recent call last)",
      "\u001b[1;32m<ipython-input-6-80e1e0dd0653>\u001b[0m in \u001b[0;36m<module>\u001b[1;34m()\u001b[0m\n\u001b[0;32m      2\u001b[0m     \u001b[0ma\u001b[0m\u001b[1;33m=\u001b[0m\u001b[0mint\u001b[0m\u001b[1;33m(\u001b[0m\u001b[0minput\u001b[0m\u001b[1;33m(\u001b[0m\u001b[1;34m\"Enter the number\"\u001b[0m\u001b[1;33m)\u001b[0m\u001b[1;33m)\u001b[0m\u001b[1;33m\u001b[0m\u001b[0m\n\u001b[0;32m      3\u001b[0m     \u001b[1;32mif\u001b[0m \u001b[1;33m(\u001b[0m\u001b[0ma\u001b[0m\u001b[1;33m<\u001b[0m\u001b[1;36m5\u001b[0m\u001b[1;33m)\u001b[0m\u001b[1;33m:\u001b[0m\u001b[1;33m\u001b[0m\u001b[0m\n\u001b[1;32m----> 4\u001b[1;33m         \u001b[1;32mraise\u001b[0m \u001b[0mTypeError\u001b[0m\u001b[1;33m\u001b[0m\u001b[0m\n\u001b[0m\u001b[0;32m      5\u001b[0m     \u001b[1;32melse\u001b[0m\u001b[1;33m:\u001b[0m\u001b[1;33m\u001b[0m\u001b[0m\n\u001b[0;32m      6\u001b[0m         \u001b[1;32mraise\u001b[0m \u001b[0mbigerror\u001b[0m\u001b[1;33m\u001b[0m\u001b[0m\n",
      "\u001b[1;31mTypeError\u001b[0m: "
     ]
    }
   ],
   "source": [
    "try:\n",
    "    a=int(input(\"Enter the number\"))\n",
    "    if (a<5):\n",
    "        raise TypeError\n",
    "    else:\n",
    "        raise bigerror\n",
    "except smallerror:\n",
    "    print('Small error')\n",
    "except bigerror:\n",
    "    print('big Error')\n",
    "\n",
    "\n",
    "        "
   ]
  },
  {
   "cell_type": "code",
   "execution_count": null,
   "metadata": {
    "collapsed": true
   },
   "outputs": [],
   "source": []
  }
 ],
 "metadata": {
  "kernelspec": {
   "display_name": "Python 3",
   "language": "python",
   "name": "python3"
  },
  "language_info": {
   "codemirror_mode": {
    "name": "ipython",
    "version": 3
   },
   "file_extension": ".py",
   "mimetype": "text/x-python",
   "name": "python",
   "nbconvert_exporter": "python",
   "pygments_lexer": "ipython3",
   "version": "3.6.1"
  }
 },
 "nbformat": 4,
 "nbformat_minor": 2
}
