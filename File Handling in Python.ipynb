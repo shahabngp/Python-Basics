{
 "cells": [
  {
   "cell_type": "markdown",
   "metadata": {
    "collapsed": true
   },
   "source": [
    "# Python File"
   ]
  },
  {
   "cell_type": "raw",
   "metadata": {},
   "source": [
    "File is a named location on disk to store related information. It is used to permanently store data in a non-volatile memory (e.g. hard disk).\n",
    "\n",
    "Since,RAM is volatile We use files for future use of the data.\n",
    "\n",
    "In Python, a file operation takes place in the following order.\n",
    "\n",
    "1.Open a file\n",
    "2.Read or write (perform operation)\n",
    "3.Close the file\n",
    "\n",
    "\n",
    "\n",
    " "
   ]
  },
  {
   "cell_type": "markdown",
   "metadata": {},
   "source": [
    "**File Handling**"
   ]
  },
  {
   "cell_type": "raw",
   "metadata": {},
   "source": [
    "**How to open a file?**\n",
    "\n",
    ">>The key function for working with files in Python is the open() function.\n",
    ">>Python has a built-in function open() to open a file.\n",
    ">>The open() function takes two parameters; filename, and mode.\n",
    ">>We specify whether we want to read 'r', write 'w' or append 'a' to the file. We also specify if we want to open the file in text mode or binary mode.\n"
   ]
  },
  {
   "cell_type": "code",
   "execution_count": 1,
   "metadata": {
    "collapsed": true
   },
   "outputs": [],
   "source": [
    "#Mode    Description\n",
    "\n",
    "#'r'     Open a file for reading. (default)\n",
    "#'w'     Open a file for writing. Creates a new file if it does not exist or truncates the file if it exists.\n",
    "#'x'     Open a file for exclusive creation. If the file already exists, the operation fails.\n",
    "#'a'     Open for appending at the end of the file without truncating it. Creates a new file if it does not exist.\n",
    "#'t'     Open in text mode. (default)\n",
    "#'b'     Open in binary mode.(e.g images)\n",
    "#'+'     Open a file for updating (reading and writing)"
   ]
  },
  {
   "cell_type": "markdown",
   "metadata": {},
   "source": [
    "Example:\n",
    "f = open(\"test.txt\")      # equivalent to 'r' or 'rt'\n",
    "f = open(\"test.txt\",'w')  # write in text mode\n",
    "f = open(\"img.bmp\",'r+b') # read and write in binary mode"
   ]
  },
  {
   "cell_type": "raw",
   "metadata": {},
   "source": [
    "#It is highly recommended to specify the encoding type.\n",
    "#The default encoding is platform dependent. In windows, it is 'cp1252' but 'utf-8' in linux\n",
    "Example:\n",
    "f = open(\"test.txt\",mode = 'r',encoding = 'cp1252')"
   ]
  },
  {
   "cell_type": "raw",
   "metadata": {},
   "source": [
    "Example:\n",
    "\n",
    "# open the  myfile.txt file located in the same folder as python.\n",
    "\n",
    "Hello! Welcome to Python\n",
    "This file is for your reference.\n",
    "Good Luck!\n",
    "\n",
    "\n",
    "#To open the file use built in function open()\n",
    "\n",
    "f = open(\"myfile.txt\", \"r\")\n",
    "print(f.read())\n"
   ]
  },
  {
   "cell_type": "markdown",
   "metadata": {},
   "source": [
    "**How to Read a file using Python?**"
   ]
  },
  {
   "cell_type": "raw",
   "metadata": {},
   "source": [
    "\n",
    "\n",
    ">>To read a file in Python, we must open the file in reading mode.\n",
    ">>By default the read() method returns the whole text, but you can also specify how many character you want to return\n",
    ">>We can use the read(size) method to read in size number of data. If size parameter is not specified, it reads and returns up to the end of the file.\n",
    "\n",
    "\n"
   ]
  },
  {
   "cell_type": "raw",
   "metadata": {},
   "source": [
    "Example:\n",
    "1.Return the entire file\n",
    "2.Return the  first 5 characters of the file:\n",
    "\n",
    "f = open(\"myfile.txt\", \"r\")\n",
    "print(f.read())  # read the entire file\n",
    "print(f.read(5)) # Return first 5 char\n",
    "\n",
    "\n"
   ]
  },
  {
   "cell_type": "raw",
   "metadata": {},
   "source": [
    "Read one line of the file:\n",
    "\n",
    "f = open(\"myfile.txt\", \"r\")\n",
    "print(f.readline())\n",
    "\n",
    "\n",
    "\n",
    "Read two lines of the file:\n",
    "\n",
    "f = open(\"myfile.txt\", \"r\")\n",
    "print(f.readline())\n",
    "print(f.readline())"
   ]
  },
  {
   "cell_type": "raw",
   "metadata": {},
   "source": [
    "We can read a file line-by-line using a for loop.\n",
    "\n",
    "f = open(\"myfile.txt\", \"r\")\n",
    "for x in f:\n",
    "  print(x)"
   ]
  },
  {
   "cell_type": "markdown",
   "metadata": {},
   "source": [
    "**How to write to File Using Python?**"
   ]
  },
  {
   "cell_type": "raw",
   "metadata": {},
   "source": [
    "\n",
    "\n",
    ">>In order to write into a file in Python, we need to open it in write 'w', append 'a' or exclusive creation 'x' mode.\n",
    ">>Be careful with the 'w' mode as it will overwrite into the file if it already exists. All previous data is erased.\n",
    ">>Writing a string or sequence of bytes (for binary files) is done using write() method."
   ]
  },
  {
   "cell_type": "raw",
   "metadata": {},
   "source": [
    "Example:\n",
    "Open the file \"demofile.txt\" and append content to the file:\n",
    "\n",
    "f = open(\"myfile.txt\", \"a\")\n",
    "f.write(\"This is the new line!\")"
   ]
  },
  {
   "cell_type": "raw",
   "metadata": {},
   "source": [
    "Open the file \"demofile.txt\" and overwrite the content:\n",
    "\n",
    "f = open(\"myfile.txt\", \"w\")\n",
    "f.write(\"I have created new file!\")"
   ]
  },
  {
   "cell_type": "raw",
   "metadata": {},
   "source": [
    "Create a file called \"myfile.txt\":\n",
    "\n",
    "f = open(\"myfile.txt\", \"x\")#\"x\" - Create - will create a new file, returns an error if the file exist\n"
   ]
  },
  {
   "cell_type": "markdown",
   "metadata": {},
   "source": [
    "**How to close a file Using Python?**"
   ]
  },
  {
   "cell_type": "raw",
   "metadata": {},
   "source": [
    "\n",
    "\n",
    ">>Close the file when we are done with the operation of the file.\n",
    ">>Closing a file will free up the resources that were tied with the file and is done using Python close() method.\n",
    ">>"
   ]
  },
  {
   "cell_type": "raw",
   "metadata": {},
   "source": [
    "f = open(\"test.txt\",encoding = 'utf-8')\n",
    "# perform file operations\n",
    "f.close()"
   ]
  },
  {
   "cell_type": "code",
   "execution_count": 12,
   "metadata": {},
   "outputs": [
    {
     "data": {
      "text/plain": [
       "'C:\\\\Users\\\\shahab\\\\Desktop\\\\Python Class\\\\Thrash'"
      ]
     },
     "execution_count": 12,
     "metadata": {},
     "output_type": "execute_result"
    }
   ],
   "source": [
    "pwd"
   ]
  },
  {
   "cell_type": "code",
   "execution_count": null,
   "metadata": {
    "collapsed": true
   },
   "outputs": [],
   "source": []
  }
 ],
 "metadata": {
  "kernelspec": {
   "display_name": "Python 3",
   "language": "python",
   "name": "python3"
  },
  "language_info": {
   "codemirror_mode": {
    "name": "ipython",
    "version": 3
   },
   "file_extension": ".py",
   "mimetype": "text/x-python",
   "name": "python",
   "nbconvert_exporter": "python",
   "pygments_lexer": "ipython3",
   "version": "3.6.1"
  }
 },
 "nbformat": 4,
 "nbformat_minor": 2
}
