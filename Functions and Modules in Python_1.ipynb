{
 "cells": [
  {
   "cell_type": "markdown",
   "metadata": {},
   "source": [
    "**Functions in Python**\n",
    "\n",
    "#Function is a predefined block of code which when executed returns the result.\n",
    "#Code written within the function can be reused again and again.Hence it avoids data redundancy.\n",
    "#You can pass parameter to the function\n",
    "#Function in python is defined using def keyword followed by function name,parenthesis,parameter and colon in the end.\n",
    "\n"
   ]
  },
  {
   "cell_type": "code",
   "execution_count": 3,
   "metadata": {},
   "outputs": [
    {
     "name": "stdout",
     "output_type": "stream",
     "text": [
      "Hello World\n"
     ]
    }
   ],
   "source": [
    "#Simple Function\n",
    "\n",
    "def firstfunc():\n",
    "    print(\"Hello World\")\n",
    "\n",
    "firstfunc()"
   ]
  },
  {
   "cell_type": "code",
   "execution_count": 42,
   "metadata": {},
   "outputs": [
    {
     "name": "stdout",
     "output_type": "stream",
     "text": [
      "Hello kishwar, your age is 30\n"
     ]
    }
   ],
   "source": [
    "def student(name,age):\n",
    "    print(\"Hello %s, your age is %d\" % (name,age))\n",
    "    \n",
    "student('kishwar',30)\n",
    "    "
   ]
  },
  {
   "cell_type": "code",
   "execution_count": 6,
   "metadata": {},
   "outputs": [
    {
     "name": "stdout",
     "output_type": "stream",
     "text": [
      "City name:bangalore\n"
     ]
    }
   ],
   "source": [
    "#Function with default value\n",
    "\n",
    "def cityname(cname):\n",
    "    print('City name:'+ cname)\n",
    "    \n",
    "\n",
    "cityname('bangalore')"
   ]
  },
  {
   "cell_type": "code",
   "execution_count": null,
   "metadata": {
    "collapsed": true
   },
   "outputs": [],
   "source": []
  },
  {
   "cell_type": "markdown",
   "metadata": {},
   "source": [
    "**Doc String***\n",
    "#Docstring(Documentation String) is like a comment..which can be used to describe the function,Module or Class in brief.\n",
    "#It is the first statement in the block of code\n",
    "#All function should have a docstring\n",
    "#It can be accesed using ' __doc__' attribute on the object.\n"
   ]
  },
  {
   "cell_type": "code",
   "execution_count": 8,
   "metadata": {},
   "outputs": [
    {
     "name": "stdout",
     "output_type": "stream",
     "text": [
      "This function is used for defining the docstrig\n"
     ]
    }
   ],
   "source": [
    "#Access Docstring by functionname.__doc__\n",
    "def simpledocstring():\n",
    "    \"This function is used for defining the docstrig\"\n",
    "    print(simpledocstring.__doc__)\n",
    "    pass\n",
    "\n",
    "simpledocstring()"
   ]
  },
  {
   "cell_type": "markdown",
   "metadata": {},
   "source": [
    "#### Pass Statement"
   ]
  },
  {
   "cell_type": "raw",
   "metadata": {},
   "source": [
    "#The pass statement in Python is used when a statement is required syntactically but you do not want any command or code to execute.\n",
    "#The pass statement is a null operation; nothing happens when it executes."
   ]
  },
  {
   "cell_type": "code",
   "execution_count": 22,
   "metadata": {
    "collapsed": true
   },
   "outputs": [],
   "source": [
    "def student():\n",
    "    pass\n",
    "   \n",
    "student()"
   ]
  },
  {
   "cell_type": "code",
   "execution_count": 25,
   "metadata": {
    "collapsed": true
   },
   "outputs": [],
   "source": [
    "# pass is just a placeholder for  functionality to be added later.\n",
    "string = {'s','h','a','h','a','b'}\n",
    "for val in string:\n",
    "    pass"
   ]
  },
  {
   "cell_type": "markdown",
   "metadata": {},
   "source": [
    "**Return Statement**\n",
    "\n",
    "#Return statement is used to exit a funciton and go back to the place where it was called.\n"
   ]
  },
  {
   "cell_type": "code",
   "execution_count": 11,
   "metadata": {},
   "outputs": [
    {
     "data": {
      "text/plain": [
       "5"
      ]
     },
     "execution_count": 11,
     "metadata": {},
     "output_type": "execute_result"
    }
   ],
   "source": [
    "def absvalue(num):\n",
    "    if(num>=0):\n",
    "        return num\n",
    "    else:\n",
    "        return -num\n",
    "absvalue(-5)"
   ]
  },
  {
   "cell_type": "code",
   "execution_count": 35,
   "metadata": {},
   "outputs": [
    {
     "name": "stdout",
     "output_type": "stream",
     "text": [
      "5\n",
      "None\n",
      "7\n"
     ]
    }
   ],
   "source": [
    "def num1():\n",
    "    print (5)\n",
    "\n",
    "def num2():\n",
    "    return 7\n",
    "\n",
    "x = num1() \n",
    "y = num2()\n",
    "\n",
    "print (x) \n",
    "# will show \"None\" because num1() does not return a value\n",
    "print (y) \n",
    "# will show \"7\" because \"7\" was output from the num2() function by the return statement."
   ]
  },
  {
   "cell_type": "code",
   "execution_count": 34,
   "metadata": {},
   "outputs": [
    {
     "name": "stdout",
     "output_type": "stream",
     "text": [
      "hello2\n",
      "hello1\n",
      "ret is: hello2\n",
      "other is: None\n"
     ]
    }
   ],
   "source": [
    "#Difference between Print & Return\n",
    "\n",
    "def printAndReturnNothing():\n",
    "    x = \"hello1\"\n",
    "    print(x)\n",
    "\n",
    "def printAndReturn():\n",
    "    x = \"hello2\"\n",
    "    print(x)\n",
    "    return x\n",
    "\n",
    "def main():\n",
    "    ret = printAndReturn()\n",
    "    other = printAndReturnNothing()\n",
    "\n",
    "    print(\"ret is: %s\" %ret)\n",
    "    print(\"other is: %s\" % other)\n",
    "\n",
    "main()"
   ]
  },
  {
   "cell_type": "markdown",
   "metadata": {},
   "source": [
    "**Local & Global Varaible in Python**\n",
    "\n",
    "Scope of Varaible: Scope of a varaible determines the portion of the program where a particular varaible is accessible.\n",
    "In python varaibles are classified as Global & Local based on the scope.\n",
    "\n",
    "Local Varaible : Varaibles defined inside the function body have local scope and are called as local varaible.\n",
    "                 This varaible is accessible only inside the function\n",
    "Global Varaible : Any Varible defined outside the function has global scope and is called as Global Varaible.\n",
    "    "
   ]
  },
  {
   "cell_type": "code",
   "execution_count": 10,
   "metadata": {},
   "outputs": [
    {
     "name": "stdout",
     "output_type": "stream",
     "text": [
      "Total outside the local body: 0\n",
      "Total inside the local body of function : 6\n"
     ]
    },
    {
     "data": {
      "text/plain": [
       "6"
      ]
     },
     "execution_count": 10,
     "metadata": {},
     "output_type": "execute_result"
    }
   ],
   "source": [
    "sum=0 #This is global varaible\n",
    "def add(num1,num2):\n",
    "    sum=num1+num2\n",
    "    print(\"Total inside the local body of function :\",sum)\n",
    "    return sum\n",
    "print(\"Total outside the local body:\",sum)\n",
    "\n",
    "add(2,4)\n",
    "     "
   ]
  },
  {
   "cell_type": "code",
   "execution_count": 16,
   "metadata": {},
   "outputs": [
    {
     "name": "stdout",
     "output_type": "stream",
     "text": [
      "Trainer name insde function is : Nethra\n",
      "Trainer name outside function is: Shahab\n"
     ]
    }
   ],
   "source": [
    "#Example2\n",
    "x=\"Shahab\"\n",
    "def trainer():\n",
    "    x=\"Nethra\"\n",
    "    print(\"Trainer name insde function is :\",x)\n",
    "trainer()\n",
    "\n",
    "print(\"Trainer name outside function is:\",x)"
   ]
  },
  {
   "cell_type": "markdown",
   "metadata": {},
   "source": [
    "# ** Types of function**"
   ]
  },
  {
   "cell_type": "markdown",
   "metadata": {},
   "source": [
    "### There are 3 Types of functions in python\n",
    "1.Built-In function\n",
    "2.User defined function\n",
    "3.Lambda Function\n"
   ]
  },
  {
   "cell_type": "markdown",
   "metadata": {},
   "source": [
    "## Anonymous Function : Lambda"
   ]
  },
  {
   "cell_type": "code",
   "execution_count": 29,
   "metadata": {
    "collapsed": true
   },
   "outputs": [],
   "source": [
    "#A lambda function is a small anonymous function.\n",
    "#A lambda function can take any number of arguments, but can only have one expression.\n",
    "#Syntax lambda arguments : expression\n"
   ]
  },
  {
   "cell_type": "code",
   "execution_count": 30,
   "metadata": {},
   "outputs": [
    {
     "name": "stdout",
     "output_type": "stream",
     "text": [
      "15\n"
     ]
    }
   ],
   "source": [
    "# Example1: A lambda function that adds 10 to the number passed in as an argument, and print the result:\n",
    "\n",
    "x = lambda a : a + 10\n",
    "print(x(5))"
   ]
  },
  {
   "cell_type": "code",
   "execution_count": 31,
   "metadata": {},
   "outputs": [
    {
     "name": "stdout",
     "output_type": "stream",
     "text": [
      "30\n"
     ]
    }
   ],
   "source": [
    "#lambda functions can take any number of arguments:\n",
    "# Example2:A lambda function that multiplies argument a with argument b and print the result:\n",
    "\n",
    "x = lambda a, b : a * b\n",
    "print(x(5, 6))"
   ]
  },
  {
   "cell_type": "code",
   "execution_count": 2,
   "metadata": {},
   "outputs": [
    {
     "name": "stdout",
     "output_type": "stream",
     "text": [
      "13\n"
     ]
    }
   ],
   "source": [
    "x = lambda a, b, c : a + b + c\n",
    "print(x(5, 6, 2))"
   ]
  },
  {
   "cell_type": "markdown",
   "metadata": {},
   "source": [
    "## User Defined Functions"
   ]
  },
  {
   "cell_type": "code",
   "execution_count": 25,
   "metadata": {},
   "outputs": [
    {
     "name": "stdout",
     "output_type": "stream",
     "text": [
      "Name : tulsi\n",
      "Age: 23\n"
     ]
    }
   ],
   "source": [
    "def printme(name='Mohd',age=23):\n",
    "    print(\"Name :\",name)\n",
    "    print(\"Age:\",age)\n",
    "    \n",
    "printme(name='tulsi')"
   ]
  },
  {
   "cell_type": "code",
   "execution_count": 5,
   "metadata": {},
   "outputs": [
    {
     "name": "stdout",
     "output_type": "stream",
     "text": [
      "Number is Odd Number\n"
     ]
    }
   ],
   "source": [
    "def evenodd(x):\n",
    "    if x%2==0 :\n",
    "        print(\"Number is Even number\")\n",
    "    else :\n",
    "        print(\"Number is Odd Number\")\n",
    "evenodd(3)"
   ]
  },
  {
   "cell_type": "code",
   "execution_count": 1,
   "metadata": {},
   "outputs": [
    {
     "name": "stdout",
     "output_type": "stream",
     "text": [
      "0\n",
      "2\n",
      "4\n",
      "6\n",
      "8\n",
      "10\n",
      "12\n",
      "14\n",
      "16\n",
      "18\n"
     ]
    }
   ],
   "source": [
    "#Function to print the table\n",
    "\n",
    "def mytable(num):\n",
    "    for i in range (10):\n",
    "        print(num*i)\n",
    "           \n",
    "\n",
    "mytable(2)"
   ]
  },
  {
   "cell_type": "code",
   "execution_count": 3,
   "metadata": {},
   "outputs": [
    {
     "data": {
      "text/plain": [
       "6"
      ]
     },
     "execution_count": 3,
     "metadata": {},
     "output_type": "execute_result"
    }
   ],
   "source": [
    "#Multiple number by 2\n",
    "def mytable1(num):\n",
    "     return (num*2)\n",
    "mytable1(3)"
   ]
  },
  {
   "cell_type": "code",
   "execution_count": null,
   "metadata": {
    "collapsed": true
   },
   "outputs": [],
   "source": [
    "#Sorted Function\n",
    "def fun(x):\n",
    "    return x+2\n",
    "\n",
    "L=[1,2,3,4,5,6]\n",
    "print(sorted(L,key = fun))\n",
    "\n",
    "fun(3)\n",
    "\n",
    "print(sorted.\n"
   ]
  },
  {
   "cell_type": "code",
   "execution_count": null,
   "metadata": {},
   "outputs": [
    {
     "name": "stdout",
     "output_type": "stream",
     "text": [
      " Select the operation you want to perform\n",
      "1 : Add\n",
      "2: SUB\n",
      "3: Multiply\n",
      "4: Divide\n"
     ]
    }
   ],
   "source": [
    "# Calculator\n",
    "def add(num1,num2):\n",
    "       return num1+num2\n",
    "def sub(num1,num2):\n",
    "        return num1-num2\n",
    "def mult(num1,num2):\n",
    "        return num1*num2\n",
    "def div(num1,num2):\n",
    "        return num1/num2\n",
    "    \n",
    "print(\" Select the operation you want to perform\")\n",
    "print(\"1 : Add\")\n",
    "print(\"2: SUB\")\n",
    "print(\"3: Multiply\")\n",
    "print(\"4: Divide\")\n",
    "\n",
    "choice=input(\"Enter your Choice\")\n",
    "    \n",
    "num1=int(input(\"Enter the first number\"))\n",
    "num2=int(input(\"Enter the second number\"))\n",
    "    \n",
    "if choice=='1':\n",
    "     print(\"Sum of two number is:\",add(num1,num2))\n",
    "        \n",
    "elif choice=='2' :\n",
    "        print(\"Difference betweentwo number is:\",sub(num1,num2))\n",
    "elif choice=='3' :\n",
    "        print(\"Multiplication of two number is:\",mult(num1,num2))\n",
    "        \n",
    "else :\n",
    "    \n",
    "        print(\"Division of two number is:\",div(num1,num2))\n",
    "        \n",
    "    "
   ]
  },
  {
   "cell_type": "code",
   "execution_count": 25,
   "metadata": {},
   "outputs": [
    {
     "name": "stdout",
     "output_type": "stream",
     "text": [
      "7 4\n"
     ]
    }
   ],
   "source": [
    "#Exchange value of two number\n",
    "\n",
    "def exchng(num1,num2):\n",
    "    x=num1\n",
    "    y=num2\n",
    "    z=num1\n",
    "    x=num2\n",
    "    y=z\n",
    "    print(x,y)\n",
    "exchng(4,7) \n",
    "    "
   ]
  },
  {
   "cell_type": "code",
   "execution_count": 27,
   "metadata": {},
   "outputs": [
    {
     "name": "stdout",
     "output_type": "stream",
     "text": [
      "5 10\n"
     ]
    }
   ],
   "source": [
    "def exchg2(num1,num2):\n",
    "    x=num1\n",
    "    y=num2\n",
    "    x=x+y   #10,5 -> 15\n",
    "    y=x-y  #10\n",
    "    x=x-y   # 5\n",
    "    \n",
    "    print(x,y)\n",
    "\n",
    "exchg2(10,5)  "
   ]
  },
  {
   "cell_type": "markdown",
   "metadata": {},
   "source": [
    "## In-Built Functions in Python"
   ]
  },
  {
   "cell_type": "code",
   "execution_count": 5,
   "metadata": {},
   "outputs": [
    {
     "name": "stdout",
     "output_type": "stream",
     "text": [
      "Absolute value of -30 is: 30\n",
      "Absolute value of -60.33 is: 60.33\n"
     ]
    }
   ],
   "source": [
    "#Absolute Function\n",
    "# abs(x)\n",
    "#Return the absolute value of a number. \n",
    "#The argument may be an integer or a floating point number. \n",
    "#If the argument is a complex number, its magnitude is returned.\n",
    "\n",
    "\n",
    "integer = -30\n",
    "print('Absolute value of -30 is:', abs(integer))\n",
    "\n",
    "#random floating number\n",
    "floating = -60.33\n",
    "print('Absolute value of -60.33 is:', abs(floating))"
   ]
  },
  {
   "cell_type": "code",
   "execution_count": 6,
   "metadata": {},
   "outputs": [
    {
     "name": "stdout",
     "output_type": "stream",
     "text": [
      "The binary equivalent of 5 is: 0b101\n"
     ]
    }
   ],
   "source": [
    "#Binary Function\n",
    "# bin()\n",
    "# The bin() method converts and returns the binary equivalent string of a given integer. \n",
    "#If the parameter isn't an integer, it has to implement __index__() method to return an integer.\n",
    "\n",
    "number = 5\n",
    "print('The binary equivalent of 5 is:', bin(number))"
   ]
  },
  {
   "cell_type": "code",
   "execution_count": 7,
   "metadata": {},
   "outputs": [
    {
     "name": "stdout",
     "output_type": "stream",
     "text": [
      "[]\n",
      "[0, 1, 2, 3, 4, 5, 6, 7, 8, 9]\n",
      "[1, 2, 3, 4, 5, 6, 7, 8, 9]\n"
     ]
    }
   ],
   "source": [
    "# range()\n",
    "# range() takes mainly three arguments having the same use in both definitions:\n",
    "\n",
    "#start - integer starting from which the sequence of integers is to be returned\n",
    "#stop - integer before which the sequence of integers is to be returned.\n",
    "#The range of integers end at stop - 1.\n",
    "#step (Optional) - integer value which determines the increment between each integer in the sequence\n",
    "\n",
    "\n",
    "\n",
    "# empty range\n",
    "print(list(range(0)))\n",
    "\n",
    "# using range(stop)\n",
    "print(list(range(10)))\n",
    "\n",
    "# using range(start, stop)\n",
    "print(list(range(1, 10)))"
   ]
  },
  {
   "cell_type": "code",
   "execution_count": 1,
   "metadata": {},
   "outputs": [
    {
     "name": "stdout",
     "output_type": "stream",
     "text": [
      "[1, 3, 5, 7, 9, 11, 13]\n"
     ]
    }
   ],
   "source": [
    "#Example 2: Create a list of even number between the given numbers using range()\n",
    "start = 1\n",
    "stop = 14\n",
    "step = 2\n",
    "\n",
    "print(list(range(start, stop, step)))"
   ]
  },
  {
   "cell_type": "markdown",
   "metadata": {},
   "source": [
    "## Module in Python"
   ]
  },
  {
   "cell_type": "markdown",
   "metadata": {},
   "source": [
    "**What are Modules in Python**"
   ]
  },
  {
   "cell_type": "markdown",
   "metadata": {},
   "source": [
    "#Modules is a file which contains Python statements and definitions\n",
    "#Modules are used to breakdown large programs into smaller and manageable organized files\n",
    "#It provides reusability of codes\n",
    "#Package is collection of Modules."
   ]
  },
  {
   "cell_type": "markdown",
   "metadata": {
    "collapsed": true
   },
   "source": [
    "**How to Create a Module**\n",
    "#To create Module save the code in your file with an extension **.py**"
   ]
  },
  {
   "cell_type": "code",
   "execution_count": 4,
   "metadata": {
    "collapsed": true
   },
   "outputs": [],
   "source": [
    "# Python Module example:\n",
    "\n",
    "def add(a, b):\n",
    "   \"\"\"This program adds two\n",
    "   numbers and return the result\"\"\"\n",
    "\n",
    "   result = a + b\n",
    "   return result\n",
    "#we have defined a function add() inside module \"example\"\n",
    "#C:\\Users\\shahab\\.ipython\\example.py"
   ]
  },
  {
   "cell_type": "code",
   "execution_count": 3,
   "metadata": {},
   "outputs": [
    {
     "name": "stdout",
     "output_type": "stream",
     "text": [
      "13\n"
     ]
    }
   ],
   "source": [
    "# **How to import modules in Python**\n",
    "#**Use Import keyword for importing Module**\n",
    "import shahab\n",
    "#Using the module name we can call the function using dot (.) operation\n",
    "shahab.add(5,8)"
   ]
  },
  {
   "cell_type": "markdown",
   "metadata": {},
   "source": [
    "#### Location for Module"
   ]
  },
  {
   "cell_type": "code",
   "execution_count": 3,
   "metadata": {},
   "outputs": [
    {
     "data": {
      "text/plain": [
       "['',\n",
       " 'C:\\\\ProgramData\\\\Anaconda3\\\\python36.zip',\n",
       " 'C:\\\\ProgramData\\\\Anaconda3\\\\DLLs',\n",
       " 'C:\\\\ProgramData\\\\Anaconda3\\\\lib',\n",
       " 'C:\\\\ProgramData\\\\Anaconda3',\n",
       " 'C:\\\\ProgramData\\\\Anaconda3\\\\lib\\\\site-packages',\n",
       " 'C:\\\\ProgramData\\\\Anaconda3\\\\lib\\\\site-packages\\\\Sphinx-1.5.6-py3.6.egg',\n",
       " 'C:\\\\ProgramData\\\\Anaconda3\\\\lib\\\\site-packages\\\\win32',\n",
       " 'C:\\\\ProgramData\\\\Anaconda3\\\\lib\\\\site-packages\\\\win32\\\\lib',\n",
       " 'C:\\\\ProgramData\\\\Anaconda3\\\\lib\\\\site-packages\\\\Pythonwin',\n",
       " 'C:\\\\ProgramData\\\\Anaconda3\\\\lib\\\\site-packages\\\\setuptools-27.2.0-py3.6.egg',\n",
       " 'C:\\\\ProgramData\\\\Anaconda3\\\\lib\\\\site-packages\\\\IPython\\\\extensions',\n",
       " 'C:\\\\Users\\\\shahab\\\\.ipython']"
      ]
     },
     "execution_count": 3,
     "metadata": {},
     "output_type": "execute_result"
    }
   ],
   "source": [
    "import sys\n",
    "sys.path"
   ]
  },
  {
   "cell_type": "markdown",
   "metadata": {
    "collapsed": true
   },
   "source": [
    "#### Reload the Module"
   ]
  },
  {
   "cell_type": "raw",
   "metadata": {},
   "source": [
    "import importlib\n",
    "importlib.reload(ModuleName)"
   ]
  },
  {
   "cell_type": "markdown",
   "metadata": {
    "collapsed": true
   },
   "source": [
    "#### Math Module"
   ]
  },
  {
   "cell_type": "code",
   "execution_count": null,
   "metadata": {
    "collapsed": true
   },
   "outputs": [],
   "source": [
    "#Math Module consists of all the mathematical function"
   ]
  },
  {
   "cell_type": "code",
   "execution_count": 4,
   "metadata": {},
   "outputs": [
    {
     "data": {
      "text/plain": [
       "1.4142135623730951"
      ]
     },
     "execution_count": 4,
     "metadata": {},
     "output_type": "execute_result"
    }
   ],
   "source": [
    "import math\n",
    "math.sqrt(2)"
   ]
  },
  {
   "cell_type": "code",
   "execution_count": 5,
   "metadata": {},
   "outputs": [
    {
     "data": {
      "text/plain": [
       "5"
      ]
     },
     "execution_count": 5,
     "metadata": {},
     "output_type": "execute_result"
    }
   ],
   "source": [
    "math.ceil(4.3)"
   ]
  },
  {
   "cell_type": "code",
   "execution_count": 6,
   "metadata": {},
   "outputs": [
    {
     "data": {
      "text/plain": [
       "24"
      ]
     },
     "execution_count": 6,
     "metadata": {},
     "output_type": "execute_result"
    }
   ],
   "source": [
    "math.factorial(4)"
   ]
  },
  {
   "cell_type": "code",
   "execution_count": 9,
   "metadata": {},
   "outputs": [
    {
     "data": {
      "text/plain": [
       "-0.9880316240928618"
      ]
     },
     "execution_count": 9,
     "metadata": {},
     "output_type": "execute_result"
    }
   ],
   "source": [
    "math.sin(30)"
   ]
  },
  {
   "cell_type": "code",
   "execution_count": 10,
   "metadata": {},
   "outputs": [
    {
     "data": {
      "text/plain": [
       "-0.9524129804151563"
      ]
     },
     "execution_count": 10,
     "metadata": {},
     "output_type": "execute_result"
    }
   ],
   "source": [
    "math.cos(60)"
   ]
  },
  {
   "cell_type": "code",
   "execution_count": null,
   "metadata": {
    "collapsed": true
   },
   "outputs": [],
   "source": []
  },
  {
   "cell_type": "markdown",
   "metadata": {},
   "source": [
    "#### Random Module "
   ]
  },
  {
   "cell_type": "raw",
   "metadata": {},
   "source": [
    "Random Module allows you to generate random numbers.\n",
    "\n",
    "Eg: When you want to pick a random value from the test data set\n"
   ]
  },
  {
   "cell_type": "code",
   "execution_count": 4,
   "metadata": {},
   "outputs": [
    {
     "name": "stdout",
     "output_type": "stream",
     "text": [
      "3\n"
     ]
    }
   ],
   "source": [
    "#Randint function\n",
    "#It allows you to generate random number.\n",
    "#Randint accepts two parameters: a lowest and a highest number.\n",
    "    \n",
    "import random\n",
    "print (random.randint(1,5))\n"
   ]
  },
  {
   "cell_type": "code",
   "execution_count": 1,
   "metadata": {},
   "outputs": [
    {
     "data": {
      "text/plain": [
       "'test'"
      ]
     },
     "execution_count": 1,
     "metadata": {},
     "output_type": "execute_result"
    }
   ],
   "source": [
    "#Choice Function\n",
    "\n",
    "import random\n",
    "L1=['test',2,'ok','abc']\n",
    "random.choice(L1)"
   ]
  },
  {
   "cell_type": "code",
   "execution_count": 6,
   "metadata": {},
   "outputs": [
    {
     "name": "stdout",
     "output_type": "stream",
     "text": [
      "['new', 'test', 45, 'Shahab']\n"
     ]
    }
   ],
   "source": [
    "#Shuffle Function\n",
    "\n",
    "import random\n",
    "L1=['test',45,'new','Shahab']\n",
    "random.shuffle(L1)\n",
    "print(L1)"
   ]
  },
  {
   "cell_type": "markdown",
   "metadata": {},
   "source": [
    "#### Method Overloading not there in python"
   ]
  },
  {
   "cell_type": "code",
   "execution_count": 2,
   "metadata": {},
   "outputs": [
    {
     "name": "stdout",
     "output_type": "stream",
     "text": [
      "120\n"
     ]
    }
   ],
   "source": [
    "# First product method. \n",
    "# Takes two argument and print their \n",
    "# product \n",
    "def product(a, b): \n",
    "    p = a * b \n",
    "    print(p) \n",
    "      \n",
    "# Second product method \n",
    "# Takes three argument and print their \n",
    "# product \n",
    "def product(a, b, c): \n",
    "    p = a * b*c \n",
    "    print(p) \n",
    "  \n",
    "# Uncommenting the below line shows an error     \n",
    "product(4, 5,6) \n",
    "  \n",
    "# This line will call the second product method \n",
    "#product(4, 5, 5) "
   ]
  },
  {
   "cell_type": "code",
   "execution_count": null,
   "metadata": {
    "collapsed": true
   },
   "outputs": [],
   "source": []
  },
  {
   "cell_type": "code",
   "execution_count": null,
   "metadata": {
    "collapsed": true
   },
   "outputs": [],
   "source": []
  }
 ],
 "metadata": {
  "kernelspec": {
   "display_name": "Python 3",
   "language": "python",
   "name": "python3"
  },
  "language_info": {
   "codemirror_mode": {
    "name": "ipython",
    "version": 3
   },
   "file_extension": ".py",
   "mimetype": "text/x-python",
   "name": "python",
   "nbconvert_exporter": "python",
   "pygments_lexer": "ipython3",
   "version": "3.6.1"
  }
 },
 "nbformat": 4,
 "nbformat_minor": 2
}
