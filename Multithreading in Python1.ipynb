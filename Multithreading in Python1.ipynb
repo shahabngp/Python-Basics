{
 "cells": [
  {
   "cell_type": "markdown",
   "metadata": {},
   "source": [
    "# Multi Threading in Python\n",
    "\n"
   ]
  },
  {
   "cell_type": "markdown",
   "metadata": {},
   "source": [
    "### What is Thread?"
   ]
  },
  {
   "cell_type": "raw",
   "metadata": {
    "collapsed": true
   },
   "source": [
    "Smallest unit of work executed by the Operating System.\n",
    "Threads run under a process. Threads running under same process share state &  memory of parent process.\n"
   ]
  },
  {
   "cell_type": "code",
   "execution_count": null,
   "metadata": {
    "collapsed": true
   },
   "outputs": [],
   "source": [
    "What is Multithreading ?\n",
    "Ability of a process to execute multiple threads parallel is called multithreading.\n",
    "Multithreading is a way of achieving multitasking where **thread** is used"
   ]
  },
  {
   "cell_type": "markdown",
   "metadata": {
    "collapsed": true
   },
   "source": [
    "### Benifits of Multithreading\n",
    "\n"
   ]
  },
  {
   "cell_type": "raw",
   "metadata": {
    "collapsed": true
   },
   "source": [
    "1.A single process, multiple threads can be used to process and share the same data-space and can communicate with each     other by sharing information.\n",
    "2.They use lesser memory overhead, and hence they are called lightweight processes.\n",
    "3.A program can remain responsive to input when threads are used.\n",
    "4.Threads can share and process the global variable's memory.\n",
    "5.Reduce Execution Time and Improve Performance\n",
    "\n",
    "Applicatios:\n",
    "1.Video Games\n",
    "2.Animations\n",
    "3.MailServers\n",
    "\n",
    "Use only when activities not dependent"
   ]
  },
  {
   "cell_type": "markdown",
   "metadata": {},
   "source": [
    "### Thread Modules in Python"
   ]
  },
  {
   "cell_type": "code",
   "execution_count": null,
   "metadata": {
    "collapsed": true
   },
   "outputs": [],
   "source": [
    "The threading module exposes all the methods of the thread module and provides some additional methods −\n",
    "\n",
    "1.threading.activeCount() − Returns the number of thread objects that are active.\n",
    "\n",
    "2.threading.currentThread() − Returns the number of thread objects in the caller's thread control.\n",
    "\n",
    "3.threading.enumerate() − Returns a list of all thread objects that are currently active.\n"
   ]
  },
  {
   "cell_type": "code",
   "execution_count": null,
   "metadata": {
    "collapsed": true
   },
   "outputs": [],
   "source": [
    "In addition to the methods, the threading module has the Thread class that implements threading. \n",
    "The methods provided by the Thread class are as follows −\n",
    "\n",
    "start() − The start() method starts a thread by calling the run method.\n",
    "\n",
    "run() − The run() method is the entry point for a thread.\n",
    "\n",
    "join([time]) − The join() waits for threads to terminate.\n",
    "\n",
    "isAlive() − The isAlive() method checks whether a thread is still executing.\n",
    "\n",
    "getName() − The getName() method returns the name of a thread.\n",
    "\n",
    "setName() − The setName() method sets the name of a thread."
   ]
  },
  {
   "cell_type": "code",
   "execution_count": 3,
   "metadata": {},
   "outputs": [
    {
     "name": "stdout",
     "output_type": "stream",
     "text": [
      "current thread :  MainThread\n"
     ]
    }
   ],
   "source": [
    "# Default Main Thread\n",
    "import threading\n",
    "print('current thread : ',threading.currentThread().getName())"
   ]
  },
  {
   "cell_type": "code",
   "execution_count": 4,
   "metadata": {},
   "outputs": [
    {
     "name": "stdout",
     "output_type": "stream",
     "text": [
      "thread function\n",
      "thread function\n",
      "thread function\n"
     ]
    }
   ],
   "source": [
    "#Define Simple Thread\n",
    "import threading\n",
    "\n",
    "def fun():\n",
    "    print ('thread function')\n",
    "    return\n",
    "\n",
    "#if __name__ == '__main__'\n",
    "for i in range(3):\n",
    "    t = threading.Thread(target=fun)\n",
    "    t.start()\n",
    "      "
   ]
  },
  {
   "cell_type": "code",
   "execution_count": 19,
   "metadata": {},
   "outputs": [
    {
     "name": "stdout",
     "output_type": "stream",
     "text": [
      "worker1 Startingworker2\n",
      " Starting\n",
      "worker1 Exiting\n",
      "worker2 Exiting\n"
     ]
    }
   ],
   "source": [
    "#Giving name to the Thread\n",
    "import threading\n",
    "import time\n",
    "\n",
    "def worker():\n",
    "    print (threading.currentThread().getName(), 'Starting')\n",
    "    time.sleep(2)\n",
    "    print (threading.currentThread().getName(), 'Exiting')\n",
    "\n",
    "w1 = threading.Thread(name='worker1', target=worker)\n",
    "w2 = threading.Thread(name='worker2',target=worker) # use default name\n",
    "\n",
    "w1.start()\n",
    "w2.start()\n",
    "#t.start()"
   ]
  },
  {
   "cell_type": "code",
   "execution_count": 16,
   "metadata": {},
   "outputs": [
    {
     "data": {
      "text/plain": [
       "['_STRUCT_TM_ITEMS',\n",
       " '__doc__',\n",
       " '__loader__',\n",
       " '__name__',\n",
       " '__package__',\n",
       " '__spec__',\n",
       " 'altzone',\n",
       " 'asctime',\n",
       " 'clock',\n",
       " 'ctime',\n",
       " 'daylight',\n",
       " 'get_clock_info',\n",
       " 'gmtime',\n",
       " 'localtime',\n",
       " 'mktime',\n",
       " 'monotonic',\n",
       " 'perf_counter',\n",
       " 'process_time',\n",
       " 'sleep',\n",
       " 'strftime',\n",
       " 'strptime',\n",
       " 'struct_time',\n",
       " 'time',\n",
       " 'timezone',\n",
       " 'tzname']"
      ]
     },
     "execution_count": 16,
     "metadata": {},
     "output_type": "execute_result"
    }
   ],
   "source": [
    "import time\n",
    "dir(time)"
   ]
  },
  {
   "cell_type": "code",
   "execution_count": 20,
   "metadata": {},
   "outputs": [
    {
     "name": "stdout",
     "output_type": "stream",
     "text": [
      "Thread 0 going to sleep for 5 seconds.\n",
      "Thread 1 going to sleep for 5 seconds.\n",
      "Thread 2 going to sleep for 5 seconds.\n",
      "Thread 3 going to sleep for 5 seconds.\n",
      "Thread 4 going to sleep for 5 seconds.Thread 5 going to sleep for 5 seconds.\n",
      "Thread 6 going to sleep for 5 seconds.\n",
      "\n",
      "Thread 7 going to sleep for 5 seconds.\n",
      "Thread 8 going to sleep for 5 seconds.\n",
      "Thread 9 going to sleep for 5 seconds.\n",
      "Thread 0 is awake now\n",
      "Thread 1 is awake now\n",
      "Thread 2 is awake now\n",
      "Thread 3 is awake now\n",
      "Thread 4 is awake now\n",
      "Thread 5 is awake now\n",
      "Thread 6 is awake now\n",
      "Thread 7 is awake now\n",
      "Thread 8 is awake now\n",
      "Thread 9 is awake now\n"
     ]
    }
   ],
   "source": [
    "#Calling Thread using argument\n",
    "import time\n",
    "import threading\n",
    "from threading import Thread\n",
    "\n",
    "def sleep(i):\n",
    "    print(\"Thread %i going to sleep for 5 seconds.\" % i)\n",
    "    time.sleep(0.5)\n",
    "    print(\"Thread %i is awake now\" %i)\n",
    "    \n",
    "for i in range(10):\n",
    "    th=Thread(target=sleep , name=i,args=(i,))\n",
    "    th.start()\n",
    "   # print(\"Current Thread count: %i.\" % threading.active_count())\n",
    "   # print(threading.main_thread())\n",
    "\n"
   ]
  },
  {
   "cell_type": "code",
   "execution_count": 1,
   "metadata": {},
   "outputs": [
    {
     "name": "stdout",
     "output_type": "stream",
     "text": [
      "Entered Shahab Thread1\n",
      "Task 1 assigned to thread: MainThread\n",
      "ID of process running task 1: 10184\n",
      "Entered Kishwar Thread2\n",
      "Task 1 assigned to thread: MainThread\n",
      "ID of process running task 1: 10184\n",
      "5\n",
      "[<_MainThread(MainThread, started 6200)>, <Thread(Thread-4, started daemon 7400)>, <Heartbeat(Thread-5, started daemon 9404)>, <HistorySavingThread(IPythonHistorySavingThread, started 9776)>, <ParentPollerWindows(Thread-3, started daemon 8584)>]\n",
      "<_MainThread(MainThread, started 6200)>\n",
      "T1 stopped: T2 still running\n",
      "5\n",
      "[<_MainThread(MainThread, started 6200)>, <Thread(Thread-4, started daemon 7400)>, <Heartbeat(Thread-5, started daemon 9404)>, <HistorySavingThread(IPythonHistorySavingThread, started 9776)>, <ParentPollerWindows(Thread-3, started daemon 8584)>]\n",
      "<_MainThread(MainThread, started 6200)>\n",
      "T2 stopped\n",
      "Done\n"
     ]
    }
   ],
   "source": [
    "# Threading\n",
    "import threading\n",
    "import os\n",
    "\n",
    "def shahab():\n",
    "    print(\"Entered Shahab Thread1\")\n",
    "    print(\"Task 1 assigned to thread: {}\".format(threading.current_thread().name)) \n",
    "    print(\"ID of process running task 1: {}\".format(os.getpid())) \n",
    "  \n",
    "\n",
    "def kishwar():\n",
    "    print(\"Entered Kishwar Thread2\")\n",
    "    print(\"Task 1 assigned to thread: {}\".format(threading.current_thread().name)) \n",
    "    print(\"ID of process running task 1: {}\".format(os.getpid())) \n",
    "  \n",
    "\n",
    "t1=threading.Thread(target=shahab())\n",
    "t2=threading.Thread(target=kishwar())\n",
    "\n",
    "t1.start()\n",
    "t2.start()\n",
    "\n",
    "print(threading.activeCount())\n",
    "print(threading.enumerate())\n",
    "print(threading.currentThread())\n",
    "t1.join()\n",
    "print(\"T1 stopped: T2 still running\")\n",
    "print(threading.activeCount())\n",
    "print(threading.enumerate())\n",
    "print(threading.currentThread())\n",
    "t2.join()\n",
    "print(\"T2 stopped\")\n",
    "print(\"Done\")"
   ]
  },
  {
   "cell_type": "code",
   "execution_count": 4,
   "metadata": {},
   "outputs": [
    {
     "name": "stdout",
     "output_type": "stream",
     "text": [
      "Calculating Square\n",
      "Calculating CUBE\n",
      "Calculating Square\n",
      "Calculating CUBE\n",
      "Calculating Square\n",
      "Calculating CUBE\n",
      "Calculating Square\n",
      "Calculating CUBE\n",
      "SQAURE IS : 1\n",
      "CUBE IS: 1\n",
      "SQAURE IS : 4\n",
      "CUBE IS: 8\n",
      "SQAURE IS : 9\n",
      "CUBE IS: 27\n",
      "SQAURE IS : 16\n",
      "CUBE IS: 64\n"
     ]
    }
   ],
   "source": [
    "import threading\n",
    "import time\n",
    "#import datetime\n",
    "\n",
    "def square(num):\n",
    "    print(\"Calculating Square\")\n",
    "    time.sleep(0.5)\n",
    "    print (\"SQAURE IS :\",num*num)\n",
    "    \n",
    "def cube(num):\n",
    "    print(\"Calculating CUBE\")\n",
    "    time.sleep(0.5)\n",
    "    print (\"CUBE IS:\",num*num*num)\n",
    "\n",
    "for i in range(1,5):\n",
    "    t1=threading.Thread(target=square, args=(i,))\n",
    "    t2=threading.Thread(target=cube, args=(i,))\n",
    "\n",
    "    t1.start()\n",
    "    t2.start()"
   ]
  },
  {
   "cell_type": "code",
   "execution_count": null,
   "metadata": {
    "collapsed": true
   },
   "outputs": [],
   "source": []
  }
 ],
 "metadata": {
  "kernelspec": {
   "display_name": "Python 3",
   "language": "python",
   "name": "python3"
  },
  "language_info": {
   "codemirror_mode": {
    "name": "ipython",
    "version": 3
   },
   "file_extension": ".py",
   "mimetype": "text/x-python",
   "name": "python",
   "nbconvert_exporter": "python",
   "pygments_lexer": "ipython3",
   "version": "3.6.1"
  }
 },
 "nbformat": 4,
 "nbformat_minor": 2
}
