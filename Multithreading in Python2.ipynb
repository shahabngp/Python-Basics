{
 "cells": [
  {
   "cell_type": "markdown",
   "metadata": {},
   "source": [
    "#### Thread Synchronization\n"
   ]
  },
  {
   "cell_type": "raw",
   "metadata": {},
   "source": [
    "Synchronization makes sure that only one thread will be executing at a time and hence no chance of getting deadlock situation"
   ]
  },
  {
   "cell_type": "raw",
   "metadata": {},
   "source": [
    "Thread synchronization is defined as a mechanism which ensures that two or more concurrent threads do not simultaneously execute some particular program segment known as critical section.\n",
    "\n",
    "Critical section: refers to the parts of the program where the shared resource is accessed.\n",
    "Race condition: Occurs when two or more threads can access shared data and try to change it at the same time."
   ]
  },
  {
   "cell_type": "markdown",
   "metadata": {},
   "source": [
    "#### Thread Synchronization example"
   ]
  },
  {
   "cell_type": "code",
   "execution_count": 3,
   "metadata": {},
   "outputs": [
    {
     "name": "stdout",
     "output_type": "stream",
     "text": [
      "worker1 Starting\n",
      "worker1 acquired lock\n",
      "worker2 Starting\n",
      "worker1worker2  acquired lockreleased lock\n",
      "\n",
      "worker1 Exiting\n",
      "worker2 released lock\n",
      "MainThreadworker2  ExitingExiting\n",
      "\n"
     ]
    }
   ],
   "source": [
    "#Synchronize Thread using acquire() & release() methods\n",
    "import threading\n",
    "import time\n",
    "\n",
    "def worker():\n",
    "    print (threading.currentThread().getName(), 'Starting')\n",
    "    threadLock.acquire() \n",
    "    print(threading.currentThread().getName(), 'acquired lock')\n",
    "    time.sleep(2)\n",
    "    #time.sleep(2)\n",
    "    threadLock.release() \n",
    "    print(threading.currentThread().getName(), 'released lock')\n",
    "    print (threading.currentThread().getName(), 'Exiting')\n",
    "    \n",
    "    \n",
    "threadLock=threading.Lock()\n",
    "threads=[]    \n",
    "\n",
    "w1 = threading.Thread(name='worker1', target=worker)\n",
    "w2 = threading.Thread(name='worker2',target=worker) # use default name\n",
    "\n",
    "w1.start()\n",
    "w2.start()\n",
    "#t.start()\n",
    "threads.append(w1)\n",
    "threads.append(w2)\n",
    "\n",
    "for t in threads:\n",
    "    t.join()\n",
    "print (threading.currentThread().getName(), 'Exiting')"
   ]
  },
  {
   "cell_type": "markdown",
   "metadata": {},
   "source": [
    "### Queue"
   ]
  },
  {
   "cell_type": "raw",
   "metadata": {},
   "source": [
    "QUEUE module allows you to create new queue object that can hold a specific number of items"
   ]
  },
  {
   "cell_type": "raw",
   "metadata": {},
   "source": [
    "There are following methods to control the QUEUE:\n",
    "\n",
    "get():\n",
    "removes and returs item from the QUEUE\n",
    "\n",
    "put():\n",
    "add items to the QUEUE\n",
    "\n",
    "qsize():\n",
    "returens the number of items which are there in the QUEUE\n",
    "\n",
    "empty():\n",
    "        returns True,if QUEUE is empty;otherwise False\n",
    "    "
   ]
  },
  {
   "cell_type": "markdown",
   "metadata": {},
   "source": [
    "#### Types of QUEUE"
   ]
  },
  {
   "cell_type": "raw",
   "metadata": {},
   "source": [
    "1.FIFO:First in first out\n",
    "\n",
    "2.LIFO:last in first out\n",
    "\n",
    "3.Priority\n"
   ]
  },
  {
   "cell_type": "code",
   "execution_count": 2,
   "metadata": {
    "collapsed": true
   },
   "outputs": [],
   "source": [
    "import queue\n",
    "import threading\n",
    "import time"
   ]
  },
  {
   "cell_type": "code",
   "execution_count": 8,
   "metadata": {},
   "outputs": [
    {
     "name": "stdout",
     "output_type": "stream",
     "text": [
      "5\n",
      "True\n"
     ]
    }
   ],
   "source": [
    "#creating instance for queue\n",
    "q=queue.Queue() #Queue=represents one type of queue.here we consider FIFO queue(defaul queue)\n",
    "\n",
    "#putting items into queue\n",
    "\n",
    "q.put(5)\n",
    "\n",
    "print(q.get())#when we get then items out thn queue should be empty\n",
    "\n",
    "#q.put(4)\n",
    "#to check empty queue\n",
    "\n",
    "print(q.empty())#\n",
    "\n"
   ]
  },
  {
   "cell_type": "markdown",
   "metadata": {},
   "source": [
    "#### FIFO"
   ]
  },
  {
   "cell_type": "code",
   "execution_count": 9,
   "metadata": {},
   "outputs": [
    {
     "name": "stdout",
     "output_type": "stream",
     "text": [
      "0   1   2   3   4   "
     ]
    }
   ],
   "source": [
    "for i in range(5):\n",
    "    q.put(i)\n",
    "while not q.empty():\n",
    "    print(q.get(),end='   ')#pulling out items the way we put"
   ]
  },
  {
   "cell_type": "markdown",
   "metadata": {},
   "source": [
    "#### LIFO"
   ]
  },
  {
   "cell_type": "code",
   "execution_count": 10,
   "metadata": {},
   "outputs": [
    {
     "name": "stdout",
     "output_type": "stream",
     "text": [
      "4   3   2   1   0   "
     ]
    }
   ],
   "source": [
    "#creating instance for Lifoqueue\n",
    "q=queue.LifoQueue() #Queue=represents one type of queue.here we consider FIFO queue(defaul queue\n",
    "\n",
    "for i in range(5):\n",
    "    q.put(i)\n",
    "while not q.empty():\n",
    "    print(q.get(),end='   ')"
   ]
  },
  {
   "cell_type": "markdown",
   "metadata": {},
   "source": [
    "#### Priority"
   ]
  },
  {
   "cell_type": "code",
   "execution_count": 13,
   "metadata": {},
   "outputs": [
    {
     "name": "stdout",
     "output_type": "stream",
     "text": [
      "1\n",
      "2\n",
      "3\n",
      "4\n"
     ]
    }
   ],
   "source": [
    "q=queue.PriorityQueue()\n",
    "\n",
    "q.put(1)\n",
    "q.put(4)\n",
    "q.put(3)\n",
    "q.put(2)\n",
    "\n",
    "\n",
    "for i in range(q.qsize()):\n",
    "    print(q.get())"
   ]
  },
  {
   "cell_type": "code",
   "execution_count": 17,
   "metadata": {},
   "outputs": [
    {
     "name": "stdout",
     "output_type": "stream",
     "text": [
      "Priority 1\n",
      "Priority 2\n",
      "Priority 3\n",
      "Priority 4\n"
     ]
    }
   ],
   "source": [
    "#for non integer values\n",
    "\n",
    "q=queue.PriorityQueue()\n",
    "\n",
    "q.put((1,  'Priority 1'))\n",
    "q.put((4, 'Priority 4'))\n",
    "q.put((3, 'Priority 3'))\n",
    "q.put((2, 'Priority 2'))\n",
    "\n",
    "\n",
    "for i in range(q.qsize()):\n",
    "    print(q.get()[1]) #[1]=to print the first index of tuple i.e 'Priority no'\n",
    "      \n",
    "      \n"
   ]
  }
 ],
 "metadata": {
  "kernelspec": {
   "display_name": "Python 3",
   "language": "python",
   "name": "python3"
  },
  "language_info": {
   "codemirror_mode": {
    "name": "ipython",
    "version": 3
   },
   "file_extension": ".py",
   "mimetype": "text/x-python",
   "name": "python",
   "nbconvert_exporter": "python",
   "pygments_lexer": "ipython3",
   "version": "3.6.1"
  }
 },
 "nbformat": 4,
 "nbformat_minor": 2
}
