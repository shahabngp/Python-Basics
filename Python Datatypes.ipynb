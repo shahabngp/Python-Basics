{
 "cells": [
  {
   "cell_type": "markdown",
   "metadata": {},
   "source": [
    "# List"
   ]
  },
  {
   "cell_type": "markdown",
   "metadata": {},
   "source": [
    "List is  an ordered sequence of items. It is one of the most used datatype in Python and is very flexible.\n",
    "#All the items in a list do not need to be of the same type.\n",
    "Lists are similar to arrays in C language."
   ]
  },
  {
   "cell_type": "code",
   "execution_count": 3,
   "metadata": {},
   "outputs": [
    {
     "name": "stdout",
     "output_type": "stream",
     "text": [
      "[1, 2.2, 'python']\n"
     ]
    }
   ],
   "source": [
    "# Declaring a list\n",
    "#Items separated by commas are enclosed within brackets [ ].\n",
    "\n",
    "a = [1, 2.2, 'python']\n",
    "print (a)"
   ]
  },
  {
   "cell_type": "code",
   "execution_count": 4,
   "metadata": {},
   "outputs": [
    {
     "name": "stdout",
     "output_type": "stream",
     "text": [
      "a[2] =  15\n",
      "a[0:3] =  [5, 10, 15]\n",
      "a[5:] =  [30, 35, 40]\n"
     ]
    }
   ],
   "source": [
    "#We can use the slicing operator [ ] to extract an item or a range of items from a list. \n",
    "#Index starts form 0 in Python.\n",
    "\n",
    "a = [5,10,15,20,25,30,35,40]\n",
    "\n",
    "# a[2] = 15\n",
    "print(\"a[2] = \", a[2])\n",
    "\n",
    "# a[0:3] = [5, 10, 15]\n",
    "print(\"a[0:3] = \", a[0:3])\n",
    "\n",
    "# a[5:] = [30, 35, 40]\n",
    "print(\"a[5:] = \", a[5:])"
   ]
  },
  {
   "cell_type": "code",
   "execution_count": 7,
   "metadata": {},
   "outputs": [
    {
     "name": "stdout",
     "output_type": "stream",
     "text": [
      "[1, 2, 4]\n"
     ]
    }
   ],
   "source": [
    "#Lists are mutable, meaning, value of elements of a list can be altered.\n",
    "# Refer index number to change value\n",
    "\n",
    "a = [1,2,3]\n",
    "a[2]=4\n",
    "print (a)\n"
   ]
  },
  {
   "cell_type": "code",
   "execution_count": 4,
   "metadata": {},
   "outputs": [
    {
     "name": "stdout",
     "output_type": "stream",
     "text": [
      "banana\n"
     ]
    }
   ],
   "source": [
    "#You can access the list items by referring to the index number:\n",
    "Fruits = [\"apple\", \"banana\", \"cherry\"]\n",
    "print(Fruits[1])"
   ]
  },
  {
   "cell_type": "code",
   "execution_count": 11,
   "metadata": {},
   "outputs": [
    {
     "name": "stdout",
     "output_type": "stream",
     "text": [
      "apple\n",
      "banana\n",
      "cherry\n"
     ]
    }
   ],
   "source": [
    "#Print all items in the list, one by one by using a for loop\n",
    "\n",
    "Fruits = [\"apple\", \"banana\", \"cherry\"]\n",
    "for x in Fruits:\n",
    "  print(x)"
   ]
  },
  {
   "cell_type": "markdown",
   "metadata": {},
   "source": [
    "# The list() Constructor\n",
    "\n"
   ]
  },
  {
   "cell_type": "code",
   "execution_count": 1,
   "metadata": {},
   "outputs": [
    {
     "name": "stdout",
     "output_type": "stream",
     "text": [
      "['apple', 'banana', 'cherry']\n"
     ]
    }
   ],
   "source": [
    "#It is also possible to use the list() constructor to make a list.\n",
    "\n",
    "Fruits = list((\"apple\", \"banana\", \"cherry\")) # note the double round-brackets\n",
    "print(Fruits)"
   ]
  },
  {
   "cell_type": "code",
   "execution_count": 1,
   "metadata": {},
   "outputs": [
    {
     "name": "stdout",
     "output_type": "stream",
     "text": [
      "['NewGuy', 'Ajay', 'Vijay', 'Ramesh', 'Sujay', 'Guy1', 'Guy2']\n",
      "5\n",
      "['NewGuy', 'Vijay', 'Ramesh', 'Sujay', 'Guy2']\n"
     ]
    }
   ],
   "source": [
    "list_ = ['Ajay', 'Vijay', 'Ramesh']\n",
    "list_.append('Sujay')               #(**Append sujay in the end)   \n",
    "list_.insert(0, 'NewGuy')           #(** insert Newguy in the front)\n",
    "list_.extend(['Guy1', 'Guy2'])      #(** Add Guy1 & Guy2 in the end)\n",
    "print (list_)                       #(** Newguy,Ajay,Vijay,Ramesh,Sujay,Guy1,Guy2)\n",
    "print (list_.index('Guy1'))         #(**5)   \n",
    "list_.remove('Guy1')                 # Remove by Name\n",
    "list_.pop(1)                         # Remove by location - Ajay is gone\n",
    "print (list_)                        #(** Newguy,Vijay,Ramesh,Sujay,Guy2))"
   ]
  },
  {
   "cell_type": "code",
   "execution_count": 2,
   "metadata": {},
   "outputs": [
    {
     "name": "stdout",
     "output_type": "stream",
     "text": [
      "[1, 1, 2, 5, 23, 23, 34, 54, 54, 54, 76, 76, 87]\n",
      "13\n",
      "87\n",
      "1\n"
     ]
    }
   ],
   "source": [
    "#Sorting\n",
    "numberlist = [1, 5, 23, 1 ,54,2, 54,23, 54,76, 76,34,87]\n",
    "numberlist.sort()        #(** Sort the list)\n",
    "print(numberlist)        #(** print the sorted list)\n",
    "print (len(numberlist))  #(**13)\n",
    "print (max(numberlist))  #(**87)\n",
    "print (min(numberlist)) #(**1)"
   ]
  },
  {
   "cell_type": "code",
   "execution_count": 3,
   "metadata": {},
   "outputs": [
    {
     "name": "stdout",
     "output_type": "stream",
     "text": [
      "['efg', 'lmn', 'abcd', 'hijk']\n"
     ]
    }
   ],
   "source": [
    "string = ['abcd', 'efg', 'hijk', 'lmn']\n",
    "print (sorted(string, key=len)) #(** sort the string as per the length)"
   ]
  },
  {
   "cell_type": "markdown",
   "metadata": {},
   "source": [
    "# Tuple"
   ]
  },
  {
   "cell_type": "markdown",
   "metadata": {},
   "source": [
    "It is an ordered sequence of items same as list.\n",
    "#The only difference is that tuples are immutable. \n",
    "#Tuples once created cannot be modified.\n",
    "\n",
    "#Tuples are used to write-protect data and are usually faster than list as it cannot change dynamically.\n",
    "#If you have data that doesn't change, implementing it as tuple will guarantee that it remains write-protected."
   ]
  },
  {
   "cell_type": "code",
   "execution_count": 37,
   "metadata": {},
   "outputs": [
    {
     "name": "stdout",
     "output_type": "stream",
     "text": [
      "('apple', 'banana', 'cherry')\n"
     ]
    }
   ],
   "source": [
    "#It is defined within parentheses () where items are separated by commas.\n",
    "\n",
    "Fruittuple = (\"apple\", \"banana\", \"cherry\")\n",
    "print(Fruittuple)"
   ]
  },
  {
   "cell_type": "code",
   "execution_count": 38,
   "metadata": {},
   "outputs": [
    {
     "data": {
      "text/plain": [
       "tuple"
      ]
     },
     "execution_count": 38,
     "metadata": {},
     "output_type": "execute_result"
    }
   ],
   "source": [
    "#print the type of tuple\n",
    "type(Fruittuple)"
   ]
  },
  {
   "cell_type": "code",
   "execution_count": 39,
   "metadata": {},
   "outputs": [
    {
     "name": "stdout",
     "output_type": "stream",
     "text": [
      "banana\n"
     ]
    }
   ],
   "source": [
    "#We can use the slicing operator [] to extract items \n",
    "Fruittuple = (\"apple\", \"banana\", \"cherry\")\n",
    "print(Fruittuple[1])"
   ]
  },
  {
   "cell_type": "code",
   "execution_count": 5,
   "metadata": {},
   "outputs": [
    {
     "ename": "TypeError",
     "evalue": "'tuple' object does not support item assignment",
     "output_type": "error",
     "traceback": [
      "\u001b[1;31m---------------------------------------------------------------------------\u001b[0m",
      "\u001b[1;31mTypeError\u001b[0m                                 Traceback (most recent call last)",
      "\u001b[1;32m<ipython-input-5-6664cd76fb2a>\u001b[0m in \u001b[0;36m<module>\u001b[1;34m()\u001b[0m\n\u001b[0;32m      1\u001b[0m \u001b[0mFruittuple\u001b[0m \u001b[1;33m=\u001b[0m \u001b[1;33m(\u001b[0m\u001b[1;34m\"apple\"\u001b[0m\u001b[1;33m,\u001b[0m \u001b[1;34m\"banana\"\u001b[0m\u001b[1;33m,\u001b[0m \u001b[1;34m\"cherry\"\u001b[0m\u001b[1;33m)\u001b[0m\u001b[1;33m\u001b[0m\u001b[0m\n\u001b[1;32m----> 2\u001b[1;33m \u001b[0mFruittuple\u001b[0m\u001b[1;33m[\u001b[0m\u001b[1;36m1\u001b[0m\u001b[1;33m]\u001b[0m \u001b[1;33m=\u001b[0m \u001b[1;34m\"blackcurrant\"\u001b[0m \u001b[1;31m# values cannot be changed (it will give error)\u001b[0m\u001b[1;33m\u001b[0m\u001b[0m\n\u001b[0m\u001b[0;32m      3\u001b[0m \u001b[0mprint\u001b[0m\u001b[1;33m(\u001b[0m\u001b[0mFruittuple\u001b[0m\u001b[1;33m)\u001b[0m\u001b[1;33m\u001b[0m\u001b[0m\n",
      "\u001b[1;31mTypeError\u001b[0m: 'tuple' object does not support item assignment"
     ]
    }
   ],
   "source": [
    "Fruittuple = (\"apple\", \"banana\", \"cherry\")\n",
    "Fruittuple[1] = \"blackcurrant\" # values cannot be changed (it will give error)\n",
    "print(Fruittuple)"
   ]
  },
  {
   "cell_type": "markdown",
   "metadata": {},
   "source": [
    "# The tuple() Constructor"
   ]
  },
  {
   "cell_type": "code",
   "execution_count": 1,
   "metadata": {},
   "outputs": [
    {
     "name": "stdout",
     "output_type": "stream",
     "text": [
      "('apple', 'banana', 'cherry')\n"
     ]
    }
   ],
   "source": [
    "#It is also possible to use the tuple() constructor to make a tuple.\n",
    "Fruits = tuple([\"apple\", \"banana\", \"cherry\"]) # note the double round-brackets\n",
    "print(Fruits)"
   ]
  },
  {
   "cell_type": "markdown",
   "metadata": {},
   "source": [
    "# Set"
   ]
  },
  {
   "cell_type": "markdown",
   "metadata": {},
   "source": [
    "#A set is a collection which is unordered and unindexed. \n",
    "#In Python sets are written within curly brackets separated by commas"
   ]
  },
  {
   "cell_type": "code",
   "execution_count": 30,
   "metadata": {
    "scrolled": true
   },
   "outputs": [
    {
     "name": "stdout",
     "output_type": "stream",
     "text": [
      "{'cherry', 'apple', 'banana'}\n"
     ]
    }
   ],
   "source": [
    "Fruitset = {\"apple\", \"banana\", \"cherry\"}\n",
    "print(Fruitset)"
   ]
  },
  {
   "cell_type": "code",
   "execution_count": 2,
   "metadata": {},
   "outputs": [
    {
     "name": "stdout",
     "output_type": "stream",
     "text": [
      "{3.3, 1, 2, 3}\n"
     ]
    }
   ],
   "source": [
    "#We can perform set operations like union, intersection on two sets. \n",
    "#Set have unique values. They eliminate duplicates.\n",
    "\n",
    "\n",
    "a = {1,2,2,3,3,3.3}\n",
    "print(a)"
   ]
  },
  {
   "cell_type": "code",
   "execution_count": 3,
   "metadata": {
    "collapsed": true
   },
   "outputs": [],
   "source": [
    "#Since, set are unordered collection, indexing has no meaning. \n",
    "#Hence the slicing operator [] does not work.\n",
    "\n",
    "#a = {1,2,3}\n",
    "#a[1] #it will show error"
   ]
  },
  {
   "cell_type": "code",
   "execution_count": 4,
   "metadata": {},
   "outputs": [
    {
     "name": "stdout",
     "output_type": "stream",
     "text": [
      "{1, 2, 3.3, 3, 22}\n"
     ]
    }
   ],
   "source": [
    "#add element\n",
    "a.add(22)\n",
    "print(a)"
   ]
  },
  {
   "cell_type": "code",
   "execution_count": 5,
   "metadata": {},
   "outputs": [
    {
     "name": "stdout",
     "output_type": "stream",
     "text": [
      "{1, 2, 3.3, 3, 12, 13, 14, 22}\n"
     ]
    }
   ],
   "source": [
    "a.update([12,13,14])\n",
    "print(a)"
   ]
  },
  {
   "cell_type": "code",
   "execution_count": 28,
   "metadata": {},
   "outputs": [
    {
     "name": "stdout",
     "output_type": "stream",
     "text": [
      "{1, 2, 3.3, 3, 12, 13, 14}\n"
     ]
    }
   ],
   "source": [
    "a.discard(22)# discard an element\n",
    "print(a)"
   ]
  },
  {
   "cell_type": "code",
   "execution_count": 30,
   "metadata": {},
   "outputs": [
    {
     "name": "stdout",
     "output_type": "stream",
     "text": [
      "{1, 2, 3.3, 3, 13, 14}\n"
     ]
    }
   ],
   "source": [
    "a.remove(12)# remove an element\n",
    "print(a)"
   ]
  },
  {
   "cell_type": "code",
   "execution_count": 31,
   "metadata": {},
   "outputs": [
    {
     "name": "stdout",
     "output_type": "stream",
     "text": [
      "{1, 2, 3.3, 3, 13, 14}\n"
     ]
    }
   ],
   "source": [
    "a.discard(222)# discard an element not present in my_set\n",
    "print(a)"
   ]
  },
  {
   "cell_type": "code",
   "execution_count": 33,
   "metadata": {
    "collapsed": true
   },
   "outputs": [],
   "source": [
    "#a.remove(222) #remove an element not present in my_set gives error"
   ]
  },
  {
   "cell_type": "markdown",
   "metadata": {},
   "source": [
    "# Dictionary"
   ]
  },
  {
   "cell_type": "code",
   "execution_count": null,
   "metadata": {
    "collapsed": true
   },
   "outputs": [],
   "source": [
    "#It is an unordered collection of key-value pairs.\n",
    "#dictionaries are defined within braces {} with each item being a pair in the form key:value. \n",
    "#Key and value can be of any type.\n",
    "#Python's dictionaries are kind of hash tables."
   ]
  },
  {
   "cell_type": "code",
   "execution_count": 1,
   "metadata": {},
   "outputs": [
    {
     "name": "stdout",
     "output_type": "stream",
     "text": [
      "{'Name': 'Raj', 'Age': 24, 'City': 'Bangalore'}\n"
     ]
    }
   ],
   "source": [
    "student={\"Name\":\"Raj\",\"Age\":24,\"City\":\"Bangalore\"}\n",
    "print (student)"
   ]
  },
  {
   "cell_type": "code",
   "execution_count": 3,
   "metadata": {},
   "outputs": [
    {
     "name": "stdout",
     "output_type": "stream",
     "text": [
      "dict_keys(['Name', 'Age', 'City'])\n"
     ]
    }
   ],
   "source": [
    "#print the keys\n",
    "print(student.keys())"
   ]
  },
  {
   "cell_type": "code",
   "execution_count": 4,
   "metadata": {},
   "outputs": [
    {
     "name": "stdout",
     "output_type": "stream",
     "text": [
      "dict_values(['Raj', 24, 'Bangalore'])\n"
     ]
    }
   ],
   "source": [
    "#print the values\n",
    "print(student.values())"
   ]
  },
  {
   "cell_type": "code",
   "execution_count": 8,
   "metadata": {},
   "outputs": [
    {
     "data": {
      "text/plain": [
       "'Raj'"
      ]
     },
     "execution_count": 8,
     "metadata": {},
     "output_type": "execute_result"
    }
   ],
   "source": [
    "#print value for particular key\n",
    "student['Name']"
   ]
  },
  {
   "cell_type": "code",
   "execution_count": 43,
   "metadata": {},
   "outputs": [
    {
     "name": "stdout",
     "output_type": "stream",
     "text": [
      "Raj\n"
     ]
    }
   ],
   "source": [
    "#You can access the items of a dictionary by referring to its key name:\n",
    "\n",
    "x=student[\"Name\"]\n",
    "print (x)"
   ]
  },
  {
   "cell_type": "code",
   "execution_count": 46,
   "metadata": {},
   "outputs": [
    {
     "name": "stdout",
     "output_type": "stream",
     "text": [
      "{'Name': 'Raj', 'Age': 25, 'City': 'Bangalore'}\n"
     ]
    }
   ],
   "source": [
    "#You can change the value of a specific item by referring to its key name\n",
    "\n",
    "student[\"Age\"]=25\n",
    "print (student)"
   ]
  },
  {
   "cell_type": "code",
   "execution_count": null,
   "metadata": {
    "collapsed": true
   },
   "outputs": [],
   "source": []
  },
  {
   "cell_type": "code",
   "execution_count": 48,
   "metadata": {},
   "outputs": [
    {
     "name": "stdout",
     "output_type": "stream",
     "text": [
      "Name\n",
      "Age\n",
      "City\n"
     ]
    }
   ],
   "source": [
    "#You can loop through a dictionary by using a for loop.\n",
    "# Return values are the keys of the dictionary\n",
    "\n",
    "for x in student:\n",
    "    print (x)"
   ]
  },
  {
   "cell_type": "code",
   "execution_count": 10,
   "metadata": {},
   "outputs": [
    {
     "name": "stdout",
     "output_type": "stream",
     "text": [
      "{'Name': 'Suresh', 'Age': 24, 'City': 'Bangalore'}\n"
     ]
    }
   ],
   "source": [
    "#update a value by using its key\n",
    "student['Name']=\"Suresh\"\n",
    "print(student)"
   ]
  },
  {
   "cell_type": "code",
   "execution_count": 13,
   "metadata": {},
   "outputs": [
    {
     "name": "stdout",
     "output_type": "stream",
     "text": [
      "{'Name': 'Suresh', 'Age': 24, 'City': 'Bangalore', 'address': 'BTM'}\n"
     ]
    }
   ],
   "source": [
    "# add item in a dictonary\n",
    "student['address'] = 'BTM'  \n",
    "print(student)"
   ]
  },
  {
   "cell_type": "code",
   "execution_count": 14,
   "metadata": {},
   "outputs": [
    {
     "name": "stdout",
     "output_type": "stream",
     "text": [
      "Suresh\n",
      "24\n",
      "Bangalore\n",
      "BTM\n"
     ]
    }
   ],
   "source": [
    "#Iterating Through a Dictionary\n",
    "for i in student:\n",
    "    print(student[i])"
   ]
  },
  {
   "cell_type": "code",
   "execution_count": 19,
   "metadata": {},
   "outputs": [
    {
     "name": "stdout",
     "output_type": "stream",
     "text": [
      "Suresh\n",
      "24\n",
      "Bangalore\n",
      "BTM\n"
     ]
    }
   ],
   "source": [
    "#or\n",
    "for i in student.values():\n",
    "    print(i)"
   ]
  },
  {
   "cell_type": "code",
   "execution_count": null,
   "metadata": {
    "collapsed": true
   },
   "outputs": [],
   "source": [
    "#to delete items\n",
    "del student['Age']"
   ]
  },
  {
   "cell_type": "code",
   "execution_count": 20,
   "metadata": {},
   "outputs": [
    {
     "name": "stdout",
     "output_type": "stream",
     "text": [
      "['Age', 'City', 'Name', 'address']\n"
     ]
    }
   ],
   "source": [
    "print(sorted(student))"
   ]
  },
  {
   "cell_type": "code",
   "execution_count": 21,
   "metadata": {},
   "outputs": [
    {
     "name": "stdout",
     "output_type": "stream",
     "text": [
      "{'Name': 'Suresh', 'Age': 24, 'City': 'Bangalore', 'address': 'BTM'}\n"
     ]
    }
   ],
   "source": [
    "print(student)"
   ]
  },
  {
   "cell_type": "code",
   "execution_count": null,
   "metadata": {
    "collapsed": true
   },
   "outputs": [],
   "source": []
  },
  {
   "cell_type": "code",
   "execution_count": null,
   "metadata": {
    "collapsed": true
   },
   "outputs": [],
   "source": [
    "student.clear();     # remove all entries in dict , leaves an empty dictionary"
   ]
  },
  {
   "cell_type": "code",
   "execution_count": null,
   "metadata": {
    "collapsed": true
   },
   "outputs": [],
   "source": [
    "# Difference between different data type\n",
    "\n",
    "List :\n",
    "    Syntax : []\n",
    "    Mutable\n",
    "    Indexed & ordered\n",
    "    Slow\n",
    "Tuple:\n",
    "    Syntax:()\n",
    "    Immutable\n",
    "    Indexed\n",
    "    Fast because values are fixed    \n",
    "Set:\n",
    "    Syntax:{}\n",
    "    Mutable\n",
    "    Unordered & UnIndexed\n",
    "    Slow\n",
    "    \n",
    "Dictonary:\n",
    "    Syntax:{Key:Value}\n",
    "    Mutable    \n",
    "    Unordered\n",
    "    Indexed\n",
    "    Fast\n",
    "    Items in dictionaries are accessed via keys and not via their position"
   ]
  },
  {
   "cell_type": "code",
   "execution_count": null,
   "metadata": {
    "collapsed": true
   },
   "outputs": [],
   "source": []
  },
  {
   "cell_type": "markdown",
   "metadata": {},
   "source": [
    "## comprehension in python"
   ]
  },
  {
   "cell_type": "raw",
   "metadata": {},
   "source": [
    "List comprehension is an elegant way to define and create list in python. \n",
    "We can create lists just like mathematical statements and in one line only.\n",
    "The syntax of list comprehension is easier to grasp."
   ]
  },
  {
   "cell_type": "raw",
   "metadata": {},
   "source": [
    "List comprehension generally consist of these parts :\n",
    "       Output expression, \n",
    "       Input sequence, \n",
    "       a variable representing member of input sequence and\n",
    "       an optional predicate part. "
   ]
  },
  {
   "cell_type": "code",
   "execution_count": 42,
   "metadata": {
    "collapsed": true
   },
   "outputs": [],
   "source": [
    "#example1\n",
    "list1  =  [x*2  for x in range (1, 11)   if  x % 2 == 0] \n",
    "\n",
    "#Here, x*2 is output expression, \n",
    " #range (1, 11)  is input sequence, \n",
    " #x is variable and   \n",
    " #if x % 2 == 1 is predicate part."
   ]
  },
  {
   "cell_type": "code",
   "execution_count": 40,
   "metadata": {},
   "outputs": [
    {
     "name": "stdout",
     "output_type": "stream",
     "text": [
      "2\n",
      "4\n",
      "6\n",
      "8\n"
     ]
    }
   ],
   "source": [
    "#example2\n",
    "a=[1,2,3,4]\n",
    "#multiply each element by 2\n",
    "for i in a:\n",
    "    print(i*2)"
   ]
  },
  {
   "cell_type": "code",
   "execution_count": 41,
   "metadata": {},
   "outputs": [
    {
     "name": "stdout",
     "output_type": "stream",
     "text": [
      "[2, 4, 6, 8]\n"
     ]
    }
   ],
   "source": [
    "print([i*2 for i in a])"
   ]
  },
  {
   "cell_type": "code",
   "execution_count": 60,
   "metadata": {},
   "outputs": [
    {
     "name": "stdout",
     "output_type": "stream",
     "text": [
      "['Bag', 'of', 'words']\n",
      "<class 'list'>\n"
     ]
    }
   ],
   "source": [
    "#example3\n",
    "words='Bag of words'.split()\n",
    "print(words)\n",
    "print(type(words))\n",
    "\n"
   ]
  },
  {
   "cell_type": "code",
   "execution_count": 59,
   "metadata": {},
   "outputs": [
    {
     "name": "stdout",
     "output_type": "stream",
     "text": [
      "['BAG', 'bag', 3]\n",
      "['OF', 'of', 2]\n",
      "['WORDS', 'words', 5]\n"
     ]
    }
   ],
   "source": [
    "check = [[i.upper(), i.lower(), len(i)] for i in words]\n",
    "for i in check:\n",
    "    print(i)\n"
   ]
  },
  {
   "cell_type": "code",
   "execution_count": null,
   "metadata": {
    "collapsed": true
   },
   "outputs": [],
   "source": [
    "#find intersection of 2 lists\n",
    "x=[1,2,3]\n",
    "y=[2,3,4,5]\n",
    "[i for i in x if i in y]"
   ]
  },
  {
   "cell_type": "code",
   "execution_count": 6,
   "metadata": {},
   "outputs": [
    {
     "name": "stdout",
     "output_type": "stream",
     "text": [
      "[2, 4, 8, 16, 32, 64, 128, 256]\n"
     ]
    }
   ],
   "source": [
    "# below list contains power of 2 from 1 to 8 \n",
    "power_of_2 = [2 ** x for x in range(1, 9)] \n",
    "print ((power_of_2))"
   ]
  },
  {
   "cell_type": "code",
   "execution_count": null,
   "metadata": {
    "collapsed": true
   },
   "outputs": [],
   "source": []
  },
  {
   "cell_type": "code",
   "execution_count": null,
   "metadata": {
    "collapsed": true
   },
   "outputs": [],
   "source": []
  }
 ],
 "metadata": {
  "kernelspec": {
   "display_name": "Python 3",
   "language": "python",
   "name": "python3"
  },
  "language_info": {
   "codemirror_mode": {
    "name": "ipython",
    "version": 3
   },
   "file_extension": ".py",
   "mimetype": "text/x-python",
   "name": "python",
   "nbconvert_exporter": "python",
   "pygments_lexer": "ipython3",
   "version": "3.6.1"
  }
 },
 "nbformat": 4,
 "nbformat_minor": 2
}
