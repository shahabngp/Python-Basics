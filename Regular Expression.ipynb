{
 "cells": [
  {
   "cell_type": "markdown",
   "metadata": {},
   "source": [
    "### Regular Expression"
   ]
  },
  {
   "cell_type": "raw",
   "metadata": {},
   "source": [
    "Regular expression is a sequence of character(s) mainly used to find and replace patterns in a string or file."
   ]
  },
  {
   "cell_type": "raw",
   "metadata": {},
   "source": [
    "Usage of Regular Expression\n",
    "\n",
    "Search a string (search and match)\n",
    "Finding a string (findall)\n",
    "Break string into a sub strings (split)\n",
    "Replace part of a string (sub)"
   ]
  },
  {
   "cell_type": "raw",
   "metadata": {},
   "source": [
    "Regular expressions use two types of characters:\n",
    "\n",
    "a) Meta characters: As the name suggests, these characters have a special meaning, similar to * in wild card.\n",
    "\n",
    "b) Literals (like a,b,3,2…)"
   ]
  },
  {
   "cell_type": "markdown",
   "metadata": {},
   "source": [
    "#### \"re\" Module"
   ]
  },
  {
   "cell_type": "raw",
   "metadata": {},
   "source": [
    "The ‘re’ package provides multiple methods to perform queries on an input string. "
   ]
  },
  {
   "cell_type": "markdown",
   "metadata": {},
   "source": [
    "#### Common Methods"
   ]
  },
  {
   "cell_type": "raw",
   "metadata": {},
   "source": [
    "re.match()\n",
    "re.search()\n",
    "re.findall()\n",
    "re.split()\n",
    "re.sub()\n",
    "re.compile()"
   ]
  },
  {
   "cell_type": "markdown",
   "metadata": {},
   "source": [
    "#### match(pattern,string)\n",
    "Allows you to search the pattern at the start of the string"
   ]
  },
  {
   "cell_type": "code",
   "execution_count": 20,
   "metadata": {},
   "outputs": [
    {
     "name": "stdout",
     "output_type": "stream",
     "text": [
      "<_sre.SRE_Match object; span=(0, 6), match='Shahab'>\n"
     ]
    }
   ],
   "source": [
    "#re.match : Matches the given pattern at the start of the string\n",
    "#syntax= re.match(pattern,string)\n",
    "import re\n",
    "result=re.match(r'Shahab','Shahab is good boy')#Use “r” at the start of the pattern string indicates that it is raw string.\n",
    "print(result)"
   ]
  },
  {
   "cell_type": "code",
   "execution_count": 21,
   "metadata": {},
   "outputs": [
    {
     "name": "stdout",
     "output_type": "stream",
     "text": [
      "Shahab\n"
     ]
    }
   ],
   "source": [
    "#Group Function is used to print the match string \n",
    "print(result.group(0))"
   ]
  },
  {
   "cell_type": "code",
   "execution_count": 25,
   "metadata": {},
   "outputs": [
    {
     "name": "stdout",
     "output_type": "stream",
     "text": [
      "0\n",
      "6\n"
     ]
    }
   ],
   "source": [
    "#Start & End function to print the start and End of the matched string\n",
    "print(result.start())\n",
    "print(result.end())"
   ]
  },
  {
   "cell_type": "markdown",
   "metadata": {},
   "source": [
    "#### search(pattern,string)\n",
    "#Allows you to search the given pattern anywhere in the string\n",
    "#It only returns the first occurrence of the search pattern."
   ]
  },
  {
   "cell_type": "code",
   "execution_count": 29,
   "metadata": {},
   "outputs": [
    {
     "name": "stdout",
     "output_type": "stream",
     "text": [
      "<_sre.SRE_Match object; span=(10, 14), match='good'>\n"
     ]
    }
   ],
   "source": [
    "# find other word\n",
    "import re\n",
    "result=re.search(r'good','Shahab is good boy and he is very good boy ')\n",
    "print(result)"
   ]
  },
  {
   "cell_type": "code",
   "execution_count": 32,
   "metadata": {},
   "outputs": [
    {
     "name": "stdout",
     "output_type": "stream",
     "text": [
      "good\n"
     ]
    }
   ],
   "source": [
    "print(result.group(0))"
   ]
  },
  {
   "cell_type": "markdown",
   "metadata": {},
   "source": [
    "#### findall(pattern,string)\n",
    "#find all the occurrences of that string anywhere and return all"
   ]
  },
  {
   "cell_type": "code",
   "execution_count": 38,
   "metadata": {},
   "outputs": [
    {
     "name": "stdout",
     "output_type": "stream",
     "text": [
      "['good', 'good']\n"
     ]
    }
   ],
   "source": [
    "import re\n",
    "result=re.findall(r'good','Shahab is good boy and he is very good boy ')\n",
    "print(result)"
   ]
  },
  {
   "cell_type": "markdown",
   "metadata": {},
   "source": [
    "#### split(pattern, string, [maxsplit=0]):\n",
    "This methods helps to split string by the occurrences of given pattern."
   ]
  },
  {
   "cell_type": "code",
   "execution_count": 39,
   "metadata": {},
   "outputs": [
    {
     "name": "stdout",
     "output_type": "stream",
     "text": [
      "['Shahab is ', ' boy and he is very ', ' boy']\n"
     ]
    }
   ],
   "source": [
    "import re\n",
    "result=re.split(r'good','Shahab is good boy and he is very good boy') #Default value of maxsplit=0\n",
    "print(result)"
   ]
  },
  {
   "cell_type": "code",
   "execution_count": 43,
   "metadata": {},
   "outputs": [
    {
     "name": "stdout",
     "output_type": "stream",
     "text": [
      "['Shahab is ', ' boy and he is very good boy']\n"
     ]
    }
   ],
   "source": [
    "#Maxsplit usage\n",
    "import re\n",
    "result=re.split(r'good','Shahab is good boy and he is very good boy',maxsplit=1)\n",
    "print(result)"
   ]
  },
  {
   "cell_type": "markdown",
   "metadata": {},
   "source": [
    "#### sub(pattern, repl, string):\n",
    "It helps to search a pattern and replace with a new sub string. If the pattern is not found, string is returned unchanged."
   ]
  },
  {
   "cell_type": "code",
   "execution_count": 45,
   "metadata": {},
   "outputs": [
    {
     "name": "stdout",
     "output_type": "stream",
     "text": [
      "Shahab is a very nice boy and nice human being\n"
     ]
    }
   ],
   "source": [
    "import re\n",
    "result=re.sub(r'good','nice','Shahab is a very good boy and good human being')\n",
    "print(result)"
   ]
  },
  {
   "cell_type": "markdown",
   "metadata": {},
   "source": [
    "#### compile(pattern, repl, string):\n",
    "We can combine a regular expression pattern into pattern objects, which can be used for pattern matching. It also helps to search a pattern again without rewriting it."
   ]
  },
  {
   "cell_type": "code",
   "execution_count": 48,
   "metadata": {},
   "outputs": [
    {
     "name": "stdout",
     "output_type": "stream",
     "text": [
      "['Shahab']\n",
      "['Shahab']\n"
     ]
    }
   ],
   "source": [
    "import re\n",
    "pattern=re.compile('Shahab')\n",
    "result=pattern.findall('Shahab is a good boy')\n",
    "print(result)\n",
    "result2=pattern.search('Shahab is a very good boy')\n",
    "print(result2)"
   ]
  },
  {
   "cell_type": "markdown",
   "metadata": {},
   "source": [
    "### Use of Operators in Regular Expression\n",
    "Regular expressions can specify patterns, not just fixed characters. \n",
    "It is commonly used in web scrapping and  text mining to extract required informatio"
   ]
  },
  {
   "cell_type": "code",
   "execution_count": 50,
   "metadata": {},
   "outputs": [
    {
     "name": "stdout",
     "output_type": "stream",
     "text": [
      "['S', 'h', 'a', 'h', 'a', 'b', ' ', 'i', 's', ' ', 'a', ' ', 'g', 'o', 'o', 'd', ' ', 'b', 'o', 'y']\n"
     ]
    }
   ],
   "source": [
    "import re\n",
    "result=re.findall(r'.','Shahab is a good boy')\n",
    "print(result)"
   ]
  },
  {
   "cell_type": "code",
   "execution_count": 51,
   "metadata": {},
   "outputs": [
    {
     "name": "stdout",
     "output_type": "stream",
     "text": [
      "['S', 'h', 'a', 'h', 'a', 'b', 'i', 's', 'a', 'g', 'o', 'o', 'd', 'b', 'o', 'y']\n"
     ]
    }
   ],
   "source": [
    "import re\n",
    "result=re.findall(r'\\w','Shahab is a good boy')\n",
    "print(result)"
   ]
  },
  {
   "cell_type": "code",
   "execution_count": 53,
   "metadata": {},
   "outputs": [
    {
     "name": "stdout",
     "output_type": "stream",
     "text": [
      "['Shahab', '', 'is', '', 'a', '', 'good', '', 'boy', '']\n"
     ]
    }
   ],
   "source": [
    "import re\n",
    "result=re.findall(r'\\w*','Shahab is a good boy')\n",
    "print(result)"
   ]
  },
  {
   "cell_type": "code",
   "execution_count": 54,
   "metadata": {},
   "outputs": [
    {
     "name": "stdout",
     "output_type": "stream",
     "text": [
      "['Shahab', 'is', 'a', 'good', 'boy']\n"
     ]
    }
   ],
   "source": [
    "import re\n",
    "result=re.findall(r'\\w+','Shahab is a good boy')\n",
    "print(result)"
   ]
  },
  {
   "cell_type": "code",
   "execution_count": 55,
   "metadata": {},
   "outputs": [
    {
     "name": "stdout",
     "output_type": "stream",
     "text": [
      "['S']\n"
     ]
    }
   ],
   "source": [
    "import re\n",
    "result=re.findall(r'^\\w','Shahab is a good boy')\n",
    "print(result)"
   ]
  },
  {
   "cell_type": "code",
   "execution_count": 56,
   "metadata": {},
   "outputs": [
    {
     "name": "stdout",
     "output_type": "stream",
     "text": [
      "['y']\n"
     ]
    }
   ],
   "source": [
    "import re\n",
    "result=re.findall(r'\\w$','Shahab is a good boy')\n",
    "print(result)"
   ]
  },
  {
   "cell_type": "code",
   "execution_count": 57,
   "metadata": {},
   "outputs": [
    {
     "name": "stdout",
     "output_type": "stream",
     "text": [
      "['Shahab']\n"
     ]
    }
   ],
   "source": [
    "import re\n",
    "result=re.findall(r'^\\w+','Shahab is a good boy')\n",
    "print(result)"
   ]
  },
  {
   "cell_type": "code",
   "execution_count": 58,
   "metadata": {},
   "outputs": [
    {
     "name": "stdout",
     "output_type": "stream",
     "text": [
      "['boy']\n"
     ]
    }
   ],
   "source": [
    "import re\n",
    "result=re.findall(r'\\w+$','Shahab is a good boy')\n",
    "print(result)"
   ]
  },
  {
   "cell_type": "code",
   "execution_count": 62,
   "metadata": {},
   "outputs": [
    {
     "name": "stdout",
     "output_type": "stream",
     "text": [
      "['Sh', 'ah', 'ab', 'is', 'go', 'od', 'bo']\n"
     ]
    }
   ],
   "source": [
    "import re\n",
    "result=re.findall(r'\\w\\w','Shahab is a good boy')\n",
    "print(result)"
   ]
  },
  {
   "cell_type": "markdown",
   "metadata": {},
   "source": [
    "#### Extract consecutive  characters those available at start of word boundary (using “\\b“)"
   ]
  },
  {
   "cell_type": "code",
   "execution_count": 74,
   "metadata": {},
   "outputs": [
    {
     "name": "stdout",
     "output_type": "stream",
     "text": [
      "['Sha', 'goo', 'boy']\n"
     ]
    }
   ],
   "source": [
    "import re\n",
    "result=re.findall(r'\\b\\w\\w\\w','Shahab is a good boy')\n",
    "print(result)"
   ]
  },
  {
   "cell_type": "markdown",
   "metadata": {},
   "source": [
    "### Domain and Email extraction"
   ]
  },
  {
   "cell_type": "code",
   "execution_count": 1,
   "metadata": {},
   "outputs": [
    {
     "name": "stdout",
     "output_type": "stream",
     "text": [
      "['@gmailcom', '@test', '@analyticsvidhya', '@rest']\n"
     ]
    }
   ],
   "source": [
    "import re\n",
    "result=re.findall(r'@\\w+','abc.test@gmailcom, xyz@test.in, test.first@analyticsvidhya.com, first.test@rest.biz')\n",
    "print(result)"
   ]
  },
  {
   "cell_type": "code",
   "execution_count": 70,
   "metadata": {},
   "outputs": [
    {
     "name": "stdout",
     "output_type": "stream",
     "text": [
      "['com', 'in', 'com', 'biz']\n"
     ]
    }
   ],
   "source": [
    "import re\n",
    "result=re.findall(r'@\\w+.(\\w+)','abc.test@gmail.com, xyz@test.in, test.first@analyticsvidhya.com, first.test@rest.biz')\n",
    "print(result)"
   ]
  },
  {
   "cell_type": "markdown",
   "metadata": {},
   "source": [
    "#### \\d to extract digits"
   ]
  },
  {
   "cell_type": "code",
   "execution_count": 73,
   "metadata": {},
   "outputs": [
    {
     "name": "stdout",
     "output_type": "stream",
     "text": [
      "['12-05-20', '11-11-20', '12-01-20']\n"
     ]
    }
   ],
   "source": [
    "result=re.findall(r'\\d{2}-\\d{2}-\\d{2}','Shahab 12-05-2007, XYZ test 11-11-2011, ABC 67-8945 12-01-2009')\n",
    "print(result)"
   ]
  },
  {
   "cell_type": "markdown",
   "metadata": {},
   "source": [
    "#### []\n",
    "Return words starts with alphabets (using [])"
   ]
  },
  {
   "cell_type": "code",
   "execution_count": 79,
   "metadata": {},
   "outputs": [
    {
     "name": "stdout",
     "output_type": "stream",
     "text": [
      "['is', 'amit']\n"
     ]
    }
   ],
   "source": [
    "import re\n",
    "result=re.findall(r'\\b[aeiou]\\w+','Shahab is Sha good Shahabuddin amit')\n",
    "print(result)"
   ]
  },
  {
   "cell_type": "raw",
   "metadata": {},
   "source": [
    ".             One character except new line\n",
    "\\.            A period. \\ escapes a special character.\n",
    "\\d            One digit\n",
    "\\D            One non-digit\n",
    "\\w            One word character including digits\n",
    "\\W            One non-word character\n",
    "\\s            One whitespace\n",
    "\\S            One non-whitespace\n",
    "\\b            Word boundary\n",
    "\\n            Newline\n",
    "\\t            Tab"
   ]
  },
  {
   "cell_type": "raw",
   "metadata": {},
   "source": [
    "####Mofifier\n",
    "$             End of string\n",
    "^             Start of string\n",
    "ab|cd         Matches ab or de.\n",
    "[ab-d]\t      One character of: a, b, c, d\n",
    "[^ab-d]\t      One character except: a, b, c, d\n",
    "()            Items within parenthesis are retrieved\n",
    "(a(bc))       Items within the sub-parenthesis are retrieved"
   ]
  },
  {
   "cell_type": "raw",
   "metadata": {},
   "source": [
    "#### Repetition\n",
    "[ab]{2}       Exactly 2 continuous occurrences of a or b\n",
    "[ab]{2,5}     2 to 5 continuous occurrences of a or b\n",
    "[ab]{2,}      2 or more continuous occurrences of a or b\n",
    "+             One or more\n",
    "*             Zero or more\n",
    "?             0 or 1"
   ]
  },
  {
   "cell_type": "code",
   "execution_count": null,
   "metadata": {
    "collapsed": true
   },
   "outputs": [],
   "source": []
  }
 ],
 "metadata": {
  "kernelspec": {
   "display_name": "Python 3",
   "language": "python",
   "name": "python3"
  },
  "language_info": {
   "codemirror_mode": {
    "name": "ipython",
    "version": 3
   },
   "file_extension": ".py",
   "mimetype": "text/x-python",
   "name": "python",
   "nbconvert_exporter": "python",
   "pygments_lexer": "ipython3",
   "version": "3.6.1"
  }
 },
 "nbformat": 4,
 "nbformat_minor": 2
}
